{
 "cells": [
  {
   "cell_type": "code",
   "execution_count": 2,
   "metadata": {},
   "outputs": [
    {
     "name": "stdout",
     "output_type": "stream",
     "text": [
      "CTC Loss: 16.153362274169922\n"
     ]
    }
   ],
   "source": [
    "import torch\n",
    "import torch.nn as nn\n",
    "import torch.nn.functional as F\n",
    "\n",
    "# Create dummy model output\n",
    "batch_size = 2\n",
    "max_seq_len = 50  # Time steps\n",
    "num_classes = 5  # (A, T, C, G, blank)\n",
    "\n",
    "# Random model output logits\n",
    "logits = torch.randn(batch_size, max_seq_len, num_classes)  # Shape: (batch, seq_len, num_classes)\n",
    "\n",
    "# Convert logits to log probabilities for CTC Loss\n",
    "log_probs = F.log_softmax(logits, dim=-1)  # Ensure values sum to 1\n",
    "\n",
    "# Transpose for CTC Loss (T, N, C)\n",
    "log_probs = log_probs.permute(1, 0, 2)  # Shape: (seq_len, batch, num_classes)\n",
    "\n",
    "# Define targets (flattened)\n",
    "targets = torch.tensor([0, 1, 2, 3, 0, 1, 2, 3])  # Example (A=0, T=1, C=2, G=3)\n",
    "\n",
    "# Define sequence lengths\n",
    "input_lengths = torch.tensor(batch_size* [50])  # Both sequences have full length\n",
    "target_lengths = torch.tensor(batch_size* [4])  # Targets are length 4 each\n",
    "\n",
    "# Initialize CTC loss function\n",
    "ctc_loss_fn = nn.CTCLoss(blank=4)  # Assuming blank token is index 4\n",
    "\n",
    "# Compute CTC Loss\n",
    "loss = ctc_loss_fn(log_probs, targets, input_lengths, target_lengths)\n",
    "print(\"CTC Loss:\", loss.item())\n"
   ]
  },
  {
   "cell_type": "code",
   "execution_count": 3,
   "metadata": {},
   "outputs": [
    {
     "name": "stdout",
     "output_type": "stream",
     "text": [
      "tensor(6.5846, grad_fn=<MeanBackward0>)\n"
     ]
    }
   ],
   "source": [
    "\n",
    "T = 50      # Input sequence length\n",
    "C = 20      # Number of classes (including blank)\n",
    "# Initialize random batch of input vectors, for *size = (T,C)\n",
    "input = torch.randn(T, C).log_softmax(1).detach().requires_grad_()\n",
    "input_lengths = torch.tensor(T, dtype=torch.long)\n",
    "# Initialize random batch of targets (0 = blank, 1:C = classes)\n",
    "target_lengths = torch.randint(low=1, high=T, size=(), dtype=torch.long)\n",
    "target = torch.randint(low=1, high=C, size=(target_lengths,), dtype=torch.long)\n",
    "ctc_loss = nn.CTCLoss()\n",
    "loss = ctc_loss(input, target, input_lengths, target_lengths)\n",
    "print(loss)"
   ]
  },
  {
   "cell_type": "code",
   "execution_count": 5,
   "metadata": {},
   "outputs": [
    {
     "data": {
      "text/plain": [
       "torch.Size([50, 20])"
      ]
     },
     "execution_count": 5,
     "metadata": {},
     "output_type": "execute_result"
    }
   ],
   "source": [
    "input.shape"
   ]
  },
  {
   "cell_type": "code",
   "execution_count": 11,
   "metadata": {},
   "outputs": [
    {
     "data": {
      "text/plain": [
       "torch.Size([17])"
      ]
     },
     "execution_count": 11,
     "metadata": {},
     "output_type": "execute_result"
    }
   ],
   "source": [
    "target.shape"
   ]
  },
  {
   "cell_type": "code",
   "execution_count": 12,
   "metadata": {},
   "outputs": [
    {
     "data": {
      "text/plain": [
       "tensor(17)"
      ]
     },
     "execution_count": 12,
     "metadata": {},
     "output_type": "execute_result"
    }
   ],
   "source": [
    "target_lengths"
   ]
  },
  {
   "cell_type": "code",
   "execution_count": 13,
   "metadata": {},
   "outputs": [
    {
     "data": {
      "text/plain": [
       "tensor(50)"
      ]
     },
     "execution_count": 13,
     "metadata": {},
     "output_type": "execute_result"
    }
   ],
   "source": [
    "input_lengths"
   ]
  },
  {
   "cell_type": "code",
   "execution_count": 6,
   "metadata": {},
   "outputs": [],
   "source": [
    "# Target are to be padded\n",
    "T = 50      # Input sequence length\n",
    "C = 20      # Number of classes (including blank)\n",
    "N = 16      # Batch size\n",
    "S = 30      # Target sequence length of longest target in batch (padding length)\n",
    "S_min = 10  # Minimum target length, for demonstration purposes\n",
    "# Initialize random batch of input vectors, for *size = (T,N,C)\n",
    "input = torch.randn(T, N, C).log_softmax(2).detach().requires_grad_()\n",
    "# Initialize random batch of targets (0 = blank, 1:C = classes)\n",
    "target = torch.randint(low=1, high=C, size=(N, S), dtype=torch.long)\n",
    "input_lengths = torch.full(size=(N,), fill_value=T, dtype=torch.long)\n",
    "target_lengths = torch.randint(low=S_min, high=S, size=(N,), dtype=torch.long)\n",
    "ctc_loss = nn.CTCLoss()\n",
    "loss = ctc_loss(input, target, input_lengths, target_lengths)"
   ]
  },
  {
   "cell_type": "code",
   "execution_count": 13,
   "metadata": {},
   "outputs": [
    {
     "data": {
      "text/plain": [
       "tensor([[ 1, 13, 12, 19,  5, 11, 14, 10, 19, 10,  7, 16, 17, 15,  4,  3,  9, 10,\n",
       "          8,  4,  3, 17, 11,  3,  2, 14,  7, 14,  6, 17],\n",
       "        [ 2,  8, 12, 12,  9, 19,  8, 14,  6, 10, 10,  1,  7, 12, 12, 17, 17,  6,\n",
       "          3,  5, 18,  3, 11, 17, 11,  4,  1,  1, 11,  7],\n",
       "        [ 5,  1,  9, 16, 12, 11,  4, 14, 19,  3,  1,  1, 12,  7, 19,  9,  3,  8,\n",
       "          6, 15, 12, 16, 15, 12, 12,  3,  4,  3, 19, 17],\n",
       "        [16, 16,  5,  1, 15, 10, 17, 17, 11, 10, 10,  4, 15,  8, 10,  8, 16, 18,\n",
       "         10,  9,  4,  7,  4, 14, 10, 15, 15, 10,  5,  2],\n",
       "        [ 6,  2, 10,  7, 14,  6,  9,  7,  6, 10, 11,  6,  9, 12, 16, 16, 11,  2,\n",
       "          8, 12, 18, 17,  2,  9, 16,  9, 11,  6,  9, 17],\n",
       "        [ 3, 15,  3,  4, 12,  2,  5, 15, 18,  9, 19, 10, 11, 14, 19,  4, 11, 13,\n",
       "          5, 10, 12, 15, 13,  1, 13, 16,  3, 15, 19, 17],\n",
       "        [10,  1,  5, 14, 14,  6,  3,  7, 10,  4, 12, 13,  6, 14,  9, 11, 10,  9,\n",
       "         17, 14,  8,  1, 15,  2, 12, 13,  6, 11, 12, 12],\n",
       "        [ 1, 14, 14,  4, 14,  3,  1, 17,  9,  8, 10,  7,  7, 16, 14, 15,  3,  3,\n",
       "         17,  7,  4,  3, 10,  6,  3, 12, 11, 12, 13, 11],\n",
       "        [10, 17, 18, 18, 19,  5, 17,  6,  1, 10, 10, 14, 14, 14, 14, 15,  1, 10,\n",
       "         13,  4,  1,  2, 11, 15,  7,  9, 19,  6, 12, 16],\n",
       "        [ 1,  5,  2, 17,  5, 10,  7,  2,  1,  5, 17,  1, 12,  6,  4, 15, 16, 19,\n",
       "          5, 15,  2,  3, 18,  7,  3, 17,  6, 16, 14,  9],\n",
       "        [ 2, 11, 12,  7,  6,  9,  9, 17, 17, 18,  2,  2,  9,  1,  6, 16, 18,  5,\n",
       "          3, 15, 10, 10, 18, 17,  2, 16, 10, 12, 10, 12],\n",
       "        [ 6, 10,  6,  4,  8, 15, 12,  1, 14, 19,  2,  6, 16, 16,  6,  3,  3,  8,\n",
       "         17, 12,  2,  3,  6,  8, 14, 14, 10,  2, 13, 17],\n",
       "        [ 7, 14,  6, 15, 12, 16,  6,  5, 10,  7,  7, 17, 13, 16, 18, 16, 15,  6,\n",
       "         18,  6, 13, 11, 13, 12,  8,  5,  2, 11,  3, 12],\n",
       "        [ 8, 18, 19, 16, 17,  1, 11, 16, 16,  4,  7, 14,  1,  8, 11, 14,  5,  2,\n",
       "         17,  8,  3,  8, 10,  6,  3, 13, 17, 17, 15,  9],\n",
       "        [ 1,  7,  5,  7, 16,  1, 10, 14, 19,  2, 16,  4, 13, 14,  5,  1,  1, 14,\n",
       "          7, 15,  4, 18, 17, 11, 19, 18, 13, 18,  9,  2],\n",
       "        [18,  7,  3,  2, 16,  3, 10, 12, 11, 12,  3, 15, 13, 15, 18, 15, 12, 18,\n",
       "          2,  9, 18,  5,  6, 17, 15, 16,  4,  4, 15,  6]])"
      ]
     },
     "execution_count": 13,
     "metadata": {},
     "output_type": "execute_result"
    }
   ],
   "source": [
    "target"
   ]
  },
  {
   "cell_type": "code",
   "execution_count": 7,
   "metadata": {},
   "outputs": [
    {
     "data": {
      "text/plain": [
       "tensor([22, 29, 27, 19, 12, 29, 25, 10, 20, 29, 24, 14, 10, 15, 29, 21])"
      ]
     },
     "execution_count": 7,
     "metadata": {},
     "output_type": "execute_result"
    }
   ],
   "source": [
    "target_lengths"
   ]
  },
  {
   "cell_type": "code",
   "execution_count": 8,
   "metadata": {},
   "outputs": [
    {
     "data": {
      "text/plain": [
       "tensor([50, 50, 50, 50, 50, 50, 50, 50, 50, 50, 50, 50, 50, 50, 50, 50])"
      ]
     },
     "execution_count": 8,
     "metadata": {},
     "output_type": "execute_result"
    }
   ],
   "source": [
    "input_lengths"
   ]
  },
  {
   "cell_type": "code",
   "execution_count": 3,
   "metadata": {},
   "outputs": [],
   "source": [
    "\n",
    "# Target are to be un-padded\n",
    "T = 50      # Input sequence length\n",
    "C = 20      # Number of classes (including blank)\n",
    "N = 16      # Batch size\n",
    "# Initialize random batch of input vectors, for *size = (T,N,C)\n",
    "input = torch.randn(T, N, C).log_softmax(2).detach().requires_grad_()\n",
    "input_lengths = torch.full(size=(N,), fill_value=T, dtype=torch.long)\n",
    "# Initialize random batch of targets (0 = blank, 1:C = classes)\n",
    "target_lengths = torch.randint(low=1, high=T, size=(N,), dtype=torch.long)\n",
    "target = torch.randint(low=1, high=C, size=(sum(target_lengths),), dtype=torch.long)\n",
    "ctc_loss = nn.CTCLoss()\n",
    "loss = ctc_loss(input, target, input_lengths, target_lengths)"
   ]
  },
  {
   "cell_type": "code",
   "execution_count": 40,
   "metadata": {},
   "outputs": [
    {
     "data": {
      "text/plain": [
       "tensor([50, 50, 50, 50, 50, 50, 50, 50, 50, 50, 50, 50, 50, 50, 50, 50])"
      ]
     },
     "execution_count": 40,
     "metadata": {},
     "output_type": "execute_result"
    }
   ],
   "source": [
    "input_lengths"
   ]
  },
  {
   "cell_type": "code",
   "execution_count": 10,
   "metadata": {},
   "outputs": [
    {
     "data": {
      "text/plain": [
       "tensor([0, 1, 2, 3, 0, 1, 2, 3])"
      ]
     },
     "execution_count": 10,
     "metadata": {},
     "output_type": "execute_result"
    }
   ],
   "source": [
    "targets"
   ]
  },
  {
   "cell_type": "code",
   "execution_count": 14,
   "metadata": {},
   "outputs": [
    {
     "name": "stdout",
     "output_type": "stream",
     "text": [
      "4954\n",
      "Selected 4954 forward reads\n"
     ]
    }
   ],
   "source": [
    "\n",
    "import pandas as pd\n",
    "from training_data import load_training_data\n",
    "from sklearn.model_selection import train_test_split\n",
    "\n",
    "dataset_path = r\"C:\\Users\\Parv\\Doc\\HelixWorks\\Basecalling\\code\\motifcaller\\data\\synthetic\\pickled_datasets\\rc.pkl\"\n",
    "X, y = load_training_data(\n",
    "       dataset_path, column_x='squiggle', column_y='motif_seq', payload=False, sampling_rate=0.1)\n",
    "X_train, X_test, y_train, y_test = train_test_split(\n",
    "        X, y, test_size=0.2, random_state=42)"
   ]
  },
  {
   "cell_type": "code",
   "execution_count": 30,
   "metadata": {},
   "outputs": [],
   "source": [
    "from nn import NaiveCaller\n",
    "from torch.nn.utils.rnn import pad_sequence\n",
    "\n",
    "model = NaiveCaller(num_classes=17)"
   ]
  },
  {
   "cell_type": "code",
   "execution_count": null,
   "metadata": {},
   "outputs": [],
   "source": [
    "def pad_input_seq_to_longest(input_seqs):\n",
    "    "
   ]
  },
  {
   "cell_type": "code",
   "execution_count": null,
   "metadata": {},
   "outputs": [],
   "source": [
    "ctc_loss = nn.CTCLoss()"
   ]
  },
  {
   "cell_type": "code",
   "execution_count": 45,
   "metadata": {},
   "outputs": [
    {
     "name": "stdout",
     "output_type": "stream",
     "text": [
      "tensor([35, 38, 45, 21, 41, 24, 25, 35, 25, 11, 35, 35, 40, 41, 22, 35, 37, 18,\n",
      "        43, 47, 28, 35, 43, 28, 43, 23, 40, 48, 37, 45, 11, 44])\n",
      "9.00639533996582\n"
     ]
    }
   ],
   "source": [
    "for ind in range(len(X_train)):\n",
    "\n",
    "    input_seqs = X_train[ind: ind + 32]\n",
    "\n",
    "    input_seqs = pad_sequence([torch.tensor(\n",
    "                i, dtype=torch.float32) for i in X_train[ind: ind + 32]], batch_first=True)\n",
    "    input_seqs = input_seqs.view(32, 1, input_seqs.shape[-1])\n",
    "    \n",
    "    model_output = model(input_seqs)\n",
    "\n",
    "    targets = pad_sequence([torch.tensor(\n",
    "                i, dtype=torch.float32) for i in y_train[ind: ind + 32]], batch_first=True)\n",
    "    target_lengths = torch.tensor([len(i) for i in y_train[ind: ind + 32]])\n",
    "    \n",
    "    model_output = model_output.permute(1, 0, 2)\n",
    "    n_timesteps = model_output.shape[0]\n",
    "    input_lengths = torch.tensor([n_timesteps for i in range(32)])\n",
    "\n",
    "    print(target_lengths)\n",
    "    \n",
    "    loss = ctc_loss(model_output, targets, input_lengths, target_lengths)\n",
    "    loss.backward()\n",
    "    print(loss.item())\n",
    "    break\n"
   ]
  },
  {
   "cell_type": "code",
   "execution_count": null,
   "metadata": {},
   "outputs": [],
   "source": []
  }
 ],
 "metadata": {
  "kernelspec": {
   "display_name": "pytorch_gpu",
   "language": "python",
   "name": "python3"
  },
  "language_info": {
   "codemirror_mode": {
    "name": "ipython",
    "version": 3
   },
   "file_extension": ".py",
   "mimetype": "text/x-python",
   "name": "python",
   "nbconvert_exporter": "python",
   "pygments_lexer": "ipython3",
   "version": "3.12.3"
  }
 },
 "nbformat": 4,
 "nbformat_minor": 2
}
