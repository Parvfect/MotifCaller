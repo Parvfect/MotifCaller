{
 "cells": [
  {
   "cell_type": "code",
   "execution_count": 9,
   "metadata": {},
   "outputs": [
    {
     "name": "stdout",
     "output_type": "stream",
     "text": [
      "CTC Loss: 16.456607818603516\n"
     ]
    }
   ],
   "source": [
    "import torch\n",
    "import torch.nn as nn\n",
    "import torch.nn.functional as F\n",
    "\n",
    "# Create dummy model output\n",
    "batch_size = 2\n",
    "max_seq_len = 50  # Time steps\n",
    "num_classes = 5  # (A, T, C, G, blank)\n",
    "\n",
    "# Random model output logits\n",
    "logits = torch.randn(batch_size, max_seq_len, num_classes)  # Shape: (batch, seq_len, num_classes)\n",
    "\n",
    "# Convert logits to log probabilities for CTC Loss\n",
    "log_probs = F.log_softmax(logits, dim=-1)  # Ensure values sum to 1\n",
    "\n",
    "# Transpose for CTC Loss (T, N, C)\n",
    "log_probs = log_probs.permute(1, 0, 2)  # Shape: (seq_len, batch, num_classes)\n",
    "\n",
    "# Define targets (flattened)\n",
    "targets = torch.tensor([0, 1, 2, 3, 0, 1, 2, 3])  # Example (A=0, T=1, C=2, G=3)\n",
    "\n",
    "# Define sequence lengths\n",
    "input_lengths = torch.tensor(batch_size* [50])  # Both sequences have full length\n",
    "target_lengths = torch.tensor(batch_size* [4])  # Targets are length 4 each\n",
    "\n",
    "# Initialize CTC loss function\n",
    "ctc_loss_fn = nn.CTCLoss(blank=4)  # Assuming blank token is index 4\n",
    "\n",
    "# Compute CTC Loss\n",
    "loss = ctc_loss_fn(log_probs, targets, input_lengths, target_lengths)\n",
    "print(\"CTC Loss:\", loss.item())\n"
   ]
  },
  {
   "cell_type": "code",
   "execution_count": null,
   "metadata": {},
   "outputs": [],
   "source": []
  }
 ],
 "metadata": {
  "kernelspec": {
   "display_name": "pytorch_gpu",
   "language": "python",
   "name": "python3"
  },
  "language_info": {
   "codemirror_mode": {
    "name": "ipython",
    "version": 3
   },
   "file_extension": ".py",
   "mimetype": "text/x-python",
   "name": "python",
   "nbconvert_exporter": "python",
   "pygments_lexer": "ipython3",
   "version": "3.12.3"
  }
 },
 "nbformat": 4,
 "nbformat_minor": 2
}
