{
 "cells": [
  {
   "cell_type": "code",
   "execution_count": 48,
   "metadata": {},
   "outputs": [],
   "source": [
    "%load_ext autoreload\n",
    "%autoreload 2"
   ]
  },
  {
   "cell_type": "code",
   "execution_count": 38,
   "metadata": {},
   "outputs": [
    {
     "name": "stdout",
     "output_type": "stream",
     "text": [
      "Index(['Squiggle', 'Bases', 'read_id', 'Motifs'], dtype='object')\n"
     ]
    }
   ],
   "source": [
    "from dataset import SyntheticDataset\n",
    "from torch.utils.data import DataLoader\n",
    "from sklearn.model_selection import train_test_split\n",
    "from training_data import load_training_data\n",
    "import torch\n",
    "from tqdm import tqdm\n",
    "\n",
    "dataset_path = (\n",
    "    r\"C:\\Users\\Parv\\Doc\\HelixWorks\\Basecalling\\code\\datasets\"\n",
    "    r\"\\synthetic\\synth_dataset_large.pkl\"\n",
    "    )\n",
    "\n",
    "sampling_rate = 1.0\n",
    "\n",
    "X, y = load_training_data(\n",
    "        dataset_path, column_x='Squiggle', column_y='Motifs',\n",
    "        sampling_rate=sampling_rate)\n",
    "\n",
    "\n",
    "X_train, X_test, y_train, y_test = train_test_split(\n",
    "    X, y, test_size=0.2, random_state=42)\n",
    "X_train, X_val, y_train, y_val = train_test_split(\n",
    "    X_train, y_train, test_size=0.1, random_state=1)"
   ]
  },
  {
   "cell_type": "code",
   "execution_count": null,
   "metadata": {},
   "outputs": [
    {
     "name": "stderr",
     "output_type": "stream",
     "text": [
      "[autoreload of nn failed: Traceback (most recent call last):\n",
      "  File \"c:\\Users\\Parv\\anaconda3\\envs\\pytorch_gpu\\Lib\\site-packages\\IPython\\extensions\\autoreload.py\", line 276, in check\n",
      "    superreload(m, reload, self.old_objects)\n",
      "  File \"c:\\Users\\Parv\\anaconda3\\envs\\pytorch_gpu\\Lib\\site-packages\\IPython\\extensions\\autoreload.py\", line 500, in superreload\n",
      "    update_generic(old_obj, new_obj)\n",
      "  File \"c:\\Users\\Parv\\anaconda3\\envs\\pytorch_gpu\\Lib\\site-packages\\IPython\\extensions\\autoreload.py\", line 397, in update_generic\n",
      "    update(a, b)\n",
      "  File \"c:\\Users\\Parv\\anaconda3\\envs\\pytorch_gpu\\Lib\\site-packages\\IPython\\extensions\\autoreload.py\", line 349, in update_class\n",
      "    if update_generic(old_obj, new_obj):\n",
      "       ^^^^^^^^^^^^^^^^^^^^^^^^^^^^^^^^\n",
      "  File \"c:\\Users\\Parv\\anaconda3\\envs\\pytorch_gpu\\Lib\\site-packages\\IPython\\extensions\\autoreload.py\", line 397, in update_generic\n",
      "    update(a, b)\n",
      "  File \"c:\\Users\\Parv\\anaconda3\\envs\\pytorch_gpu\\Lib\\site-packages\\IPython\\extensions\\autoreload.py\", line 309, in update_function\n",
      "    setattr(old, name, getattr(new, name))\n",
      "ValueError: __init__() requires a code object with 0 free vars, not 2413771620353\n",
      "]\n"
     ]
    }
   ],
   "source": [
    "\n",
    "\n",
    "import pandas as pd\n",
    "import numpy as np\n",
    "import matplotlib.pyplot as plt\n",
    "import torch\n",
    "from torch.nn import CTCLoss\n",
    "from sklearn.preprocessing import normalize"
   ]
  },
  {
   "cell_type": "code",
   "execution_count": 40,
   "metadata": {},
   "outputs": [],
   "source": [
    "df = pd.read_pickle(r\"C:\\Users\\Parv\\Doc\\HelixWorks\\Basecalling\\code\\motifcaller\\data\\synthetic\\pickled_datasets\\25_2_25.pkl\")"
   ]
  },
  {
   "cell_type": "code",
   "execution_count": 41,
   "metadata": {},
   "outputs": [],
   "source": [
    "X = df['squiggle']\n",
    "Y = df['motif_seq']"
   ]
  },
  {
   "cell_type": "code",
   "execution_count": 42,
   "metadata": {},
   "outputs": [],
   "source": [
    "ctc = CTCLoss(blank=0)"
   ]
  },
  {
   "cell_type": "code",
   "execution_count": 113,
   "metadata": {},
   "outputs": [],
   "source": [
    "import torch.optim as optim\n",
    "from nn import MotifCaller\n",
    "model = MotifCaller(n_classes=16)\n",
    "optimizer = optim.Adam(model.parameters(), lr=0.001)"
   ]
  },
  {
   "cell_type": "code",
   "execution_count": 117,
   "metadata": {},
   "outputs": [
    {
     "name": "stdout",
     "output_type": "stream",
     "text": [
      "(1, 8034)\n",
      "13.123896598815918\n",
      "(1, 3415)\n",
      "1.0524003505706787\n",
      "(1, 9337)\n",
      "3.56681227684021\n",
      "(1, 7345)\n",
      "5.185147285461426\n",
      "(1, 7380)\n",
      "6.144494533538818\n",
      "(1, 11370)\n",
      "7.255798816680908\n",
      "(1, 3125)\n",
      "3.9470643997192383\n",
      "(1, 7443)\n",
      "6.6799211502075195\n",
      "(1, 5454)\n",
      "5.731595993041992\n",
      "(1, 3386)\n",
      "4.050175666809082\n"
     ]
    }
   ],
   "source": [
    "ind = 0\n",
    "for x, y in zip(X, Y):\n",
    "    len_x = len(x)\n",
    "    x = torch.tensor(x, dtype=torch.float32).view(1, len_x)\n",
    "    x = normalize(x)\n",
    "    print(x.shape)\n",
    "    x = torch.tensor(x, dtype=torch.float32).view(1, 1, len_x)\n",
    "    y = torch.tensor(y)\n",
    "    model_output = model(x)\n",
    "    #print(model_output.shape)\n",
    "    #sum_labels = model_output.sum(axis=1)[0].detach().numpy()\n",
    "    #print(np.exp(sum_labels))\n",
    "    \n",
    "    n_timesteps = model_output.shape[1]\n",
    "    input_lengths = torch.tensor(n_timesteps)\n",
    "    label_lengths = torch.tensor(len(y))\n",
    "\n",
    "    loss = ctc(model_output[0], y, input_lengths, label_lengths)\n",
    "    print(loss.item())\n",
    "    #print(loss)\n",
    "    loss.backward()\n",
    "    optimizer.step()\n",
    "    ind += 1\n",
    "    \n",
    "    #print([np.exp(i) for i in ]])\n",
    "    if ind == 10:\n",
    "        break"
   ]
  },
  {
   "cell_type": "code",
   "execution_count": 101,
   "metadata": {},
   "outputs": [
    {
     "name": "stdout",
     "output_type": "stream",
     "text": [
      "tensor(17)\n"
     ]
    }
   ],
   "source": [
    "print(target_lengths)"
   ]
  },
  {
   "cell_type": "code",
   "execution_count": 106,
   "metadata": {},
   "outputs": [
    {
     "name": "stdout",
     "output_type": "stream",
     "text": [
      "tensor(50)\n"
     ]
    }
   ],
   "source": [
    "print(input_lengths)"
   ]
  },
  {
   "cell_type": "code",
   "execution_count": 108,
   "metadata": {},
   "outputs": [
    {
     "name": "stdout",
     "output_type": "stream",
     "text": [
      "tensor(6.3805, grad_fn=<MeanBackward0>)\n"
     ]
    }
   ],
   "source": [
    "print(loss)"
   ]
  },
  {
   "cell_type": "code",
   "execution_count": null,
   "metadata": {},
   "outputs": [],
   "source": []
  }
 ],
 "metadata": {
  "kernelspec": {
   "display_name": "pytorch_gpu",
   "language": "python",
   "name": "python3"
  },
  "language_info": {
   "codemirror_mode": {
    "name": "ipython",
    "version": 3
   },
   "file_extension": ".py",
   "mimetype": "text/x-python",
   "name": "python",
   "nbconvert_exporter": "python",
   "pygments_lexer": "ipython3",
   "version": "3.12.3"
  }
 },
 "nbformat": 4,
 "nbformat_minor": 2
}
