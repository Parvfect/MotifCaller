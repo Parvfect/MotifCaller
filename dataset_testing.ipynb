{
 "cells": [
  {
   "cell_type": "code",
   "execution_count": 13,
   "metadata": {},
   "outputs": [
    {
     "name": "stdout",
     "output_type": "stream",
     "text": [
      "The autoreload extension is already loaded. To reload it, use:\n",
      "  %reload_ext autoreload\n"
     ]
    }
   ],
   "source": [
    "%load_ext autoreload\n",
    "%autoreload 2"
   ]
  },
  {
   "cell_type": "code",
   "execution_count": null,
   "metadata": {},
   "outputs": [],
   "source": [
    "from dataset import SyntheticDataset\n",
    "from torch.utils.data import DataLoader\n",
    "from sklearn.model_selection import train_test_split\n",
    "from training_data import load_training_data\n",
    "import torch\n",
    "from training_loop impo\n",
    "from tqdm import tqdm\n",
    "\n",
    "dataset_path = (\n",
    "    r\"C:\\Users\\Parv\\Doc\\HelixWorks\\Basecalling\\code\\datasets\"\n",
    "    r\"\\synthetic\\synth_dataset_large.pkl\"\n",
    "    )\n",
    "\n",
    "sampling_rate = 1.0\n",
    "\n",
    "X, y = load_training_data(\n",
    "        dataset_path, column_x='Squiggle', column_y='Motifs',\n",
    "        sampling_rate=sampling_rate)\n",
    "\n",
    "\n",
    "X_train, X_test, y_train, y_test = train_test_split(\n",
    "    X, y, test_size=0.2, random_state=42)\n",
    "X_train, X_val, y_train, y_val = train_test_split(\n",
    "    X_train, y_train, test_size=0.1, random_state=1)"
   ]
  },
  {
   "cell_type": "code",
   "execution_count": 28,
   "metadata": {},
   "outputs": [],
   "source": [
    "\n",
    "torch.autograd.set_detect_anomaly(True)\n",
    "training_data = SyntheticDataset(X=X_train, y=y_train, windows=True, window_size=1000, window_step=800)"
   ]
  },
  {
   "cell_type": "code",
   "execution_count": 32,
   "metadata": {},
   "outputs": [],
   "source": [
    "\n",
    "params = {'batch_size': 23,\n",
    "          'shuffle': True}\n",
    "\n",
    "dataloader = torch.utils.data.DataLoader(training_data, **params)"
   ]
  },
  {
   "cell_type": "code",
   "execution_count": null,
   "metadata": {},
   "outputs": [],
   "source": []
  }
 ],
 "metadata": {
  "kernelspec": {
   "display_name": "pytorch_gpu",
   "language": "python",
   "name": "python3"
  },
  "language_info": {
   "codemirror_mode": {
    "name": "ipython",
    "version": 3
   },
   "file_extension": ".py",
   "mimetype": "text/x-python",
   "name": "python",
   "nbconvert_exporter": "python",
   "pygments_lexer": "ipython3",
   "version": "3.12.3"
  }
 },
 "nbformat": 4,
 "nbformat_minor": 2
}
