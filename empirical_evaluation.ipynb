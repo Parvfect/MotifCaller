{
 "cells": [
  {
   "cell_type": "code",
   "execution_count": 1,
   "metadata": {},
   "outputs": [],
   "source": [
    "%load_ext autoreload\n",
    "%autoreload 2"
   ]
  },
  {
   "cell_type": "code",
   "execution_count": 2,
   "metadata": {},
   "outputs": [],
   "source": [
    "import pandas as pd\n",
    "import torch\n",
    "from nn import MotifCaller, NaiveCaller\n",
    "from training_data import data_preproc, load_training_data\n",
    "from utils import get_savepaths\n",
    "import numpy as np\n",
    "from sklearn.preprocessing import normalize\n",
    "from greedy_decoder import GreedyCTCDecoder\n",
    "from Levenshtein import ratio\n",
    "from utils import load_model, get_metrics_for_evaluation, sort_transcript\n",
    "from sklearn.model_selection import train_test_split\n",
    "from beam_search_decoder import beam_search_ctc\n",
    "import torch.nn as nn\n",
    "from tqdm.notebook import tqdm\n",
    "import numpy as np\n",
    "import matplotlib.pyplot as plt"
   ]
  },
  {
   "cell_type": "code",
   "execution_count": 31,
   "metadata": {},
   "outputs": [],
   "source": [
    "n_classes = 19\n",
    "model_path = r\"C:\\Users\\Parv\\Doc\\HelixWorks\\Basecalling\\code\\motifcaller\\models\\empirical\\filtered_model.pth\"\n",
    "model_path = r\"C:\\Users\\Parv\\Doc\\HelixWorks\\Basecalling\\code\\motifcaller\\models\\empirical\\filtered_6_motifs_30_epochs.pth\"\n",
    "labels_int = np.arange(n_classes).tolist()\n",
    "labels = [f\"{i}\" for i in labels_int] # Tokens to be fed into greedy decoder\n",
    "greedy_decoder = GreedyCTCDecoder(labels = labels)\n",
    "ctc = nn.CTCLoss(blank=0, reduction='mean', zero_infinity=True)"
   ]
  },
  {
   "cell_type": "code",
   "execution_count": 32,
   "metadata": {},
   "outputs": [],
   "source": [
    "\n",
    "device = torch.device('cuda' if torch.cuda.is_available() else 'cpu')\n",
    "torch.set_default_device(device)\n",
    "model = load_model(model_path=model_path, device=device, n_classes=n_classes)\n",
    "\n",
    "dataset_path = r\"C:\\Users\\Parv\\Doc\\HelixWorks\\Basecalling\\code\\motifcaller\\data\\empirical\\pickled_datasets\\28_2_25.pkl\"\n",
    "test_dataset_path = r\"C:\\Users\\Parv\\Doc\\HelixWorks\\Basecalling\\code\\datasets\\empirical\\full_empirical_test_dataset_v5_payload_seq.pkl\"\n",
    "#dataset = pd.read_pickle(dataset_path)\n",
    "#dataset = pd.read_pickle(test_dataset_path)\n",
    "\n",
    "#X, y, payloads = load_training_data(\n",
    "#        test_dataset_path, column_x='squiggle', column_y='motif_seq', payload=True, sampling_rate=0.2)"
   ]
  },
  {
   "cell_type": "code",
   "execution_count": 33,
   "metadata": {},
   "outputs": [
    {
     "name": "stdout",
     "output_type": "stream",
     "text": [
      "Index(['ONT_Barcode', 'HW_Address', 'Payload', 'Library_Motifs', 'read_id',\n",
      "       'squiggle', 'Motifs', 'Spacer_Sequence', 'Payload_Sequence'],\n",
      "      dtype='object')\n"
     ]
    }
   ],
   "source": [
    "X, y, payloads = load_training_data(\n",
    "        test_dataset_path, column_x='squiggle', column_y='Spacer_Sequence', payload=True, sampling_rate=0.2)"
   ]
  },
  {
   "cell_type": "code",
   "execution_count": 34,
   "metadata": {},
   "outputs": [],
   "source": [
    "X_train, X_test, y_train, y_test = train_test_split(\n",
    "        X, y, test_size=0.2, random_state=42)"
   ]
  },
  {
   "cell_type": "code",
   "execution_count": 35,
   "metadata": {},
   "outputs": [],
   "source": [
    "X_train, X_test, payloads_train, payloads_test = train_test_split(\n",
    "        X, payloads, test_size=0.2, random_state=42)"
   ]
  },
  {
   "cell_type": "code",
   "execution_count": 36,
   "metadata": {},
   "outputs": [],
   "source": [
    "def evaluate_prediction(prediction, original):\n",
    "\n",
    "    found = 0\n",
    "    err = 0\n",
    "    for i, j in zip(prediction, original):\n",
    "        for k in range(len(i)):\n",
    "            if i[k] in j:\n",
    "                found += 1\n",
    "            else:\n",
    "                err += 1\n",
    "\n",
    "    return found, err"
   ]
  },
  {
   "cell_type": "code",
   "execution_count": 41,
   "metadata": {},
   "outputs": [
    {
     "data": {
      "application/vnd.jupyter.widget-view+json": {
       "model_id": "5fad1778276742c28b935909387510cd",
       "version_major": 2,
       "version_minor": 0
      },
      "text/plain": [
       "  0%|          | 0/2762 [00:00<?, ?it/s]"
      ]
     },
     "metadata": {},
     "output_type": "display_data"
    },
    {
     "name": "stdout",
     "output_type": "stream",
     "text": [
      "[[1], [1], [], [3], [1], [], [], [1]]\n",
      "[[], [], [3, 6], [3], [6], [], [], []]\n",
      "[[1, 5, 6, 8], [1, 2, 3, 7], [3, 4, 5, 6], [1, 3, 6, 8], [1, 3, 6, 7], [2, 3, 7, 8], [2, 3, 7, 8], [2, 6, 7, 8]]\n",
      "(4, 1)\n",
      "(4, 0)\n",
      "0\n",
      "[[1], [1], [], [1], [1], [], [], [1]]\n",
      "[[], [4], [], [], [], [], [], []]\n",
      "[[2, 3, 4, 5], [1, 2, 3, 4], [2, 4, 6, 7], [1, 3, 4, 5], [3, 5, 7, 8], [2, 3, 5, 6], [2, 3, 4, 7], [1, 3, 4, 8]]\n",
      "(3, 2)\n",
      "(1, 0)\n",
      "2\n",
      "[[1], [1], [], [3], [1], [], [], [1]]\n",
      "[[], [], [5], [], [], [], [], []]\n",
      "[[2, 4, 6, 7], [1, 2, 4, 7], [1, 2, 3, 5], [2, 3, 4, 5], [1, 3, 4, 5], [1, 3, 5, 7], [1, 2, 3, 6], [2, 4, 5, 8]]\n",
      "(3, 2)\n",
      "(1, 0)\n",
      "4\n",
      "[[1], [1], [], [3], [1], [], [], [1]]\n",
      "[[], [], [5], [], [], [1], [], []]\n",
      "[[2, 3, 6, 8], [3, 4, 5, 6], [2, 5, 6, 7], [1, 3, 5, 6], [1, 2, 4, 7], [1, 4, 5, 8], [3, 4, 7, 8], [1, 4, 7, 8]]\n",
      "(3, 2)\n",
      "(2, 0)\n",
      "5\n",
      "[[1], [1], [], [1], [1], [], [], [1]]\n",
      "[[], [], [], [3], [], [], [6], []]\n",
      "[[2, 6, 7, 8], [3, 5, 6, 8], [1, 3, 5, 8], [1, 3, 4, 7], [1, 6, 7, 8], [1, 3, 7, 8], [2, 3, 4, 6], [2, 4, 7, 8]]\n",
      "(2, 3)\n",
      "(2, 0)\n",
      "5\n",
      "[[1], [1], [], [7], [1], [], [], [1]]\n",
      "[[3], [5, 6], [2], [8], [], [], [], []]\n",
      "[[1, 3, 4, 8], [5, 6, 7, 8], [1, 2, 3, 4], [1, 2, 4, 8], [2, 3, 5, 7], [3, 4, 5, 8], [1, 3, 6, 7], [2, 4, 6, 7]]\n",
      "(1, 4)\n",
      "(5, 0)\n",
      "1\n",
      "[[1], [1], [], [7], [1], [], [], [1]]\n",
      "[[], [], [], [], [], [], [7], [3]]\n",
      "[[2, 4, 6, 8], [2, 3, 4, 8], [2, 3, 7, 8], [1, 5, 7, 8], [3, 4, 6, 8], [1, 3, 5, 6], [1, 2, 4, 7], [1, 2, 3, 7]]\n",
      "(2, 3)\n",
      "(2, 0)\n",
      "1\n",
      "[[1], [1], [], [1], [1], [], [], [1]]\n",
      "[[4], [], [], [], [], [], [], []]\n",
      "[[3, 4, 5, 6], [1, 2, 4, 8], [1, 2, 4, 8], [2, 3, 7, 8], [2, 3, 4, 8], [2, 5, 6, 8], [1, 2, 4, 6], [1, 2, 4, 7]]\n",
      "(2, 3)\n",
      "(1, 0)\n",
      "2\n",
      "[[1], [1], [], [3], [1], [], [], [1]]\n",
      "[[6], [], [], [], [], [], [], []]\n",
      "[[3, 4, 5, 6], [1, 3, 5, 7], [2, 3, 6, 7], [4, 6, 7, 8], [1, 2, 4, 7], [2, 4, 5, 8], [2, 4, 5, 7], [2, 5, 6, 8]]\n",
      "(2, 3)\n",
      "(1, 0)\n",
      "3\n",
      "[[1], [1], [], [7], [1], [], [], [1]]\n",
      "[[1], [], [3], [], [], [7], [], []]\n",
      "[[1, 4, 6, 7], [2, 3, 7, 8], [1, 2, 3, 6], [1, 2, 7, 8], [1, 3, 5, 6], [1, 2, 4, 7], [1, 4, 6, 8], [4, 5, 6, 7]]\n",
      "(3, 2)\n",
      "(3, 0)\n",
      "3\n",
      "3\n"
     ]
    }
   ],
   "source": [
    "\n",
    "counter = 0\n",
    "sum_diff = 0\n",
    "\n",
    "for x, y, payload in tqdm(zip(X_test, y_test, payloads_test), total=len(X_test)):\n",
    "    input_sequence = torch.tensor(\n",
    "        x, dtype=torch.float32)\n",
    "    input_sequence = input_sequence.view(\n",
    "        1, 1, len(x)).to(device)\n",
    "    model_output = model(input_sequence)\n",
    "    model_output = model_output.permute(1, 0, 2)\n",
    "    \n",
    "    label_lengths = torch.tensor([len(y)])\n",
    "    target_sequence = torch.tensor(y).to(device)\n",
    "\n",
    "    \n",
    "    n_timesteps = model_output.shape[0]\n",
    "    input_lengths = torch.tensor([n_timesteps])\n",
    "    \n",
    "    model_output_flattened = model_output.view(\n",
    "        model_output.shape[0] * model_output.shape[1], n_classes)\n",
    "\n",
    "    loss = ctc(\n",
    "        model_output, target_sequence, input_lengths, label_lengths)\n",
    "    #print(loss.item())\n",
    "    \n",
    "    greedy_transcript = \" \".join(greedy_decoder(model_output))\n",
    "    beam_transcript = beam_search_ctc(\n",
    "        model_output_flattened.detach().cpu(), beam_width=10)\n",
    "    actual_transcript = \" \".join([str(i) for i in y])\n",
    "\n",
    "    decoded_prediction = sort_transcript(beam_transcript)\n",
    "    search_prediction = sort_transcript(actual_transcript)\n",
    "    original = sort_transcript(\" \".join([str(i) for i in payload]))\n",
    "    print(decoded_prediction)\n",
    "    print(search_prediction)\n",
    "    print(original)\n",
    "    \n",
    "    found_motifs_caller = evaluate_prediction(decoded_prediction, original)\n",
    "    found_motifs_search = evaluate_prediction(search_prediction, original)\n",
    "    print(found_motifs_caller)\n",
    "    print(found_motifs_search)\n",
    "    sum_diff += found_motifs_caller[0] - found_motifs_search[0]\n",
    "    \n",
    "    #greedy_ratio = ratio(greedy_transcript, actual_transcript)\n",
    "    #beam_ratio = ratio(beam_transcript, actual_transcript)\n",
    "    #sum_diff += beam_ratio - greedy_ratio\n",
    "    #print()\n",
    "    counter+=1\n",
    "    print(sum_diff)\n",
    "\n",
    "    if counter == 10:\n",
    "        print(sum_diff)\n",
    "        break"
   ]
  },
  {
   "cell_type": "code",
   "execution_count": 26,
   "metadata": {},
   "outputs": [
    {
     "data": {
      "text/plain": [
       "3.125"
      ]
     },
     "execution_count": 26,
     "metadata": {},
     "output_type": "execute_result"
    }
   ],
   "source": [
    "1 * 100 /32"
   ]
  },
  {
   "cell_type": "code",
   "execution_count": 38,
   "metadata": {},
   "outputs": [
    {
     "data": {
      "text/plain": [
       "71"
      ]
     },
     "execution_count": 38,
     "metadata": {},
     "output_type": "execute_result"
    }
   ],
   "source": [
    "sum_diff"
   ]
  },
  {
   "cell_type": "code",
   "execution_count": null,
   "metadata": {},
   "outputs": [],
   "source": []
  }
 ],
 "metadata": {
  "kernelspec": {
   "display_name": "pytorch_gpu",
   "language": "python",
   "name": "python3"
  },
  "language_info": {
   "codemirror_mode": {
    "name": "ipython",
    "version": 3
   },
   "file_extension": ".py",
   "mimetype": "text/x-python",
   "name": "python",
   "nbconvert_exporter": "python",
   "pygments_lexer": "ipython3",
   "version": "3.12.3"
  }
 },
 "nbformat": 4,
 "nbformat_minor": 2
}
