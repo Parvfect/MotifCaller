{
 "cells": [
  {
   "cell_type": "code",
   "execution_count": null,
   "metadata": {},
   "outputs": [
    {
     "ename": "ModuleNotFoundError",
     "evalue": "No module named 'Levenshtein'",
     "output_type": "error",
     "traceback": [
      "\u001b[0;31m---------------------------------------------------------------------------\u001b[0m",
      "\u001b[0;31mModuleNotFoundError\u001b[0m                       Traceback (most recent call last)",
      "Cell \u001b[0;32mIn[41], line 6\u001b[0m\n\u001b[1;32m      4\u001b[0m \u001b[38;5;28;01mimport\u001b[39;00m \u001b[38;5;21;01mre\u001b[39;00m\n\u001b[1;32m      5\u001b[0m \u001b[38;5;28;01mfrom\u001b[39;00m \u001b[38;5;21;01mtyping\u001b[39;00m \u001b[38;5;28;01mimport\u001b[39;00m List, Any\n\u001b[0;32m----> 6\u001b[0m \u001b[38;5;28;01mfrom\u001b[39;00m \u001b[38;5;21;01mLevenshtein\u001b[39;00m \u001b[38;5;28;01mimport\u001b[39;00m distance\n",
      "\u001b[0;31mModuleNotFoundError\u001b[0m: No module named 'Levenshtein'"
     ]
    }
   ],
   "source": [
    "import pysam\n",
    "import pandas as pd\n",
    "import json\n",
    "import re\n",
    "from typing import List, Any"
   ]
  },
  {
   "cell_type": "code",
   "execution_count": 18,
   "metadata": {},
   "outputs": [],
   "source": [
    "\n",
    "## original bases and motifs (pre sequencing)\n",
    "\n",
    "with open(r\"/mnt/c/Users/Parv/Doc/HelixWorks/Basecalling/code/motifcaller/data/synthetic/synthetic_dataset_preprocess_runs/25.2.25/info.json\", 'r') as f:\n",
    "    info_dict = json.load(f)\n",
    "\n",
    "read_ids = info_dict['read_ids']"
   ]
  },
  {
   "cell_type": "code",
   "execution_count": 33,
   "metadata": {},
   "outputs": [],
   "source": [
    "motif_picks = info_dict['motif_choices']\n",
    "motif_labels = info_dict['motif_labels']\n",
    "motif_links = info_dict['link_choices']"
   ]
  },
  {
   "cell_type": "code",
   "execution_count": 68,
   "metadata": {},
   "outputs": [
    {
     "data": {
      "text/plain": [
       "['CCACTAACGTAGAGTACTGC',\n",
       " 'GTCGAGGATAATTGTGCAGA',\n",
       " 'CACCCCCGTATTTTGAGCGG',\n",
       " 'ATCCTAGCGTTTTCGAACGT',\n",
       " 'CACGTTGTTTTATCGTCGTC',\n",
       " 'GTCTCCCCAGGAACGGTGCC',\n",
       " 'GCATGAAGACACTAGCGCCT',\n",
       " 'CAGCGCCACCAACTCCACAA',\n",
       " 'GTGCGGCCGT',\n",
       " 'GGGACAGCTA',\n",
       " 'ACATCAGTCG',\n",
       " 'CCTTCATACC',\n",
       " 'GTCCATCCAC',\n",
       " 'ATGACGTCGG',\n",
       " 'AGCTTTGAGC',\n",
       " 'TTCACACCTT']"
      ]
     },
     "execution_count": 68,
     "metadata": {},
     "output_type": "execute_result"
    }
   ],
   "source": [
    "motif_picks"
   ]
  },
  {
   "cell_type": "code",
   "execution_count": 80,
   "metadata": {},
   "outputs": [
    {
     "name": "stdout",
     "output_type": "stream",
     "text": [
      "[14, 8, 14, 14, 15, 5, 5, 15, 15, 8, 8, 16, 1, 16, 2, 2, 16, 5, 5, 16, 8, 8]\n",
      "[9, 1, 9, 9, 4, 9, 9, 6, 9, 9, 8, 9, 10, 1, 10, 10, 3, 10, 10, 5, 10, 10, 6, 10, 11, 4, 11, 11, 6, 11, 11, 7, 11, 11, 8, 11, 12, 3, 12, 12, 6, 12, 12, 7, 12, 12, 8, 12, 13, 2, 13, 13, 4, 13, 13, 7, 13, 13, 8, 13, 14, 1, 14, 14, 2, 14, 14, 6, 14, 14, 8, 14, 15, 2, 15, 15, 5, 15, 15, 7, 15, 15, 8, 15, 16, 1, 16, 16, 2, 16, 16, 5, 16, 16, 8, 16]\n",
      "+\n",
      "\n",
      "[3, 10, 8, 11, 2, 2, 11, 4, 4, 11, 5, 11, 7, 7, 2, 3, 6, 6, 12, 7, 7, 13, 1, 1, 13, 13, 5, 13, 6, 6, 13, 2, 2, 14, 5, 5, 14, 6, 6, 14, 8, 8, 3, 15, 4, 1, 15, 6, 6, 15, 7, 7, 3, 15, 8, 8, 1, 16, 2, 16, 4, 4, 16, 5, 5]\n",
      "[9, 1, 9, 9, 2, 9, 9, 4, 9, 9, 7, 9, 10, 1, 10, 10, 2, 10, 10, 3, 10, 10, 7, 10, 11, 2, 11, 11, 4, 11, 11, 5, 11, 11, 7, 11, 12, 2, 12, 12, 3, 12, 12, 6, 12, 12, 7, 12, 13, 1, 13, 13, 4, 13, 13, 5, 13, 13, 6, 13, 14, 2, 14, 14, 5, 14, 14, 6, 14, 14, 8, 14, 15, 4, 15, 15, 6, 15, 15, 7, 15, 15, 8, 15, 16, 1, 16, 16, 2, 16, 16, 4, 16, 16, 5, 16]\n",
      "+\n",
      "\n",
      "[12, 3, 3, 15, 4, 4, 12, 6, 12, 1, 1, 13, 13, 6, 6, 13, 7, 7, 14, 3, 3, 14, 4, 14, 5, 5, 14, 6, 14, 3, 3, 3, 15, 15, 4, 4, 15, 6, 6, 8, 16, 3, 16, 4, 4, 16, 5, 16, 7, 7]\n",
      "[9, 4, 9, 9, 5, 9, 9, 6, 9, 9, 8, 9, 10, 2, 10, 10, 3, 10, 10, 6, 10, 10, 8, 10, 11, 3, 11, 11, 6, 11, 11, 7, 11, 11, 8, 11, 12, 3, 12, 12, 4, 12, 12, 6, 12, 12, 7, 12, 13, 1, 13, 13, 5, 13, 13, 6, 13, 13, 7, 13, 14, 3, 14, 14, 4, 14, 14, 5, 14, 14, 6, 14, 15, 3, 15, 15, 4, 15, 15, 6, 15, 15, 8, 15, 16, 3, 16, 16, 4, 16, 16, 5, 16, 16, 7, 16]\n",
      "+\n",
      "\n",
      "[]\n",
      "[9, 1, 9, 9, 2, 9, 9, 5, 9, 9, 7, 9, 10, 1, 10, 10, 3, 10, 10, 6, 10, 10, 8, 10, 11, 1, 11, 11, 3, 11, 11, 4, 11, 11, 6, 11, 12, 1, 12, 12, 4, 12, 12, 7, 12, 12, 8, 12, 13, 1, 13, 13, 2, 13, 13, 5, 13, 13, 7, 13, 14, 4, 14, 14, 5, 14, 14, 6, 14, 14, 7, 14, 15, 1, 15, 15, 3, 15, 15, 6, 15, 15, 7, 15, 16, 2, 16, 16, 3, 16, 16, 6, 16, 16, 7, 16]\n",
      "-\n",
      "\n",
      "[6, 13, 7, 7, 2, 3, 3, 15, 14, 4, 4, 14, 8, 14, 4, 4, 15, 5, 7, 7, 15, 8, 8, 15, 1, 16, 5, 5, 16, 16, 8]\n",
      "[9, 2, 9, 9, 3, 9, 9, 4, 9, 9, 8, 9, 10, 1, 10, 10, 4, 10, 10, 5, 10, 10, 6, 10, 11, 2, 11, 11, 3, 11, 11, 6, 11, 11, 7, 11, 12, 3, 12, 12, 4, 12, 12, 5, 12, 12, 7, 12, 13, 3, 13, 13, 4, 13, 13, 6, 13, 13, 7, 13, 14, 2, 14, 14, 3, 14, 14, 4, 14, 14, 8, 14, 15, 4, 15, 15, 5, 15, 15, 7, 15, 15, 8, 15, 16, 1, 16, 16, 5, 16, 16, 7, 16, 16, 8, 16]\n",
      "+\n",
      "\n",
      "[12]\n",
      "[9, 3, 9, 9, 4, 9, 9, 6, 9, 9, 8, 9, 10, 2, 10, 10, 3, 10, 10, 5, 10, 10, 7, 10, 11, 1, 11, 11, 2, 11, 11, 5, 11, 11, 8, 11, 12, 1, 12, 12, 2, 12, 12, 4, 12, 12, 6, 12, 13, 1, 13, 13, 4, 13, 13, 5, 13, 13, 8, 13, 14, 1, 14, 14, 2, 14, 14, 3, 14, 14, 8, 14, 15, 2, 15, 15, 4, 15, 15, 7, 15, 15, 8, 15, 16, 1, 16, 16, 3, 16, 16, 7, 16, 16, 8, 16]\n",
      "-\n",
      "\n",
      "[13, 7, 13, 8, 8, 13, 2, 2, 14, 14, 3, 3, 14, 4, 14, 5, 5, 15, 2, 15, 3, 3, 15, 15, 5, 5, 3, 7, 7, 15, 1, 1, 16, 2, 2, 16, 3, 3, 16, 8, 8]\n",
      "[9, 1, 9, 9, 2, 9, 9, 4, 9, 9, 6, 9, 10, 1, 10, 10, 4, 10, 10, 7, 10, 10, 8, 10, 11, 2, 11, 11, 3, 11, 11, 4, 11, 11, 6, 11, 12, 1, 12, 12, 3, 12, 12, 6, 12, 12, 7, 12, 13, 5, 13, 13, 6, 13, 13, 7, 13, 13, 8, 13, 14, 2, 14, 14, 3, 14, 14, 4, 14, 14, 5, 14, 15, 2, 15, 15, 3, 15, 15, 5, 15, 15, 7, 15, 16, 1, 16, 16, 2, 16, 16, 3, 16, 16, 8, 16]\n",
      "+\n",
      "\n",
      "[]\n",
      "[9, 1, 9, 9, 2, 9, 9, 4, 9, 9, 7, 9, 10, 3, 10, 10, 4, 10, 10, 5, 10, 10, 7, 10, 11, 3, 11, 11, 4, 11, 11, 5, 11, 11, 6, 11, 12, 1, 12, 12, 4, 12, 12, 6, 12, 12, 7, 12, 13, 2, 13, 13, 3, 13, 13, 5, 13, 13, 8, 13, 14, 1, 14, 14, 2, 14, 14, 4, 14, 14, 7, 14, 15, 4, 15, 15, 5, 15, 15, 6, 15, 15, 7, 15, 16, 1, 16, 16, 3, 16, 16, 7, 16, 16, 8, 16]\n",
      "-\n",
      "\n",
      "[6, 8, 15, 3, 3, 3, 15, 15, 6, 6, 15, 8, 8, 15, 2, 2, 16, 16, 4, 4, 16, 8]\n",
      "[9, 1, 9, 9, 3, 9, 9, 7, 9, 9, 8, 9, 10, 2, 10, 10, 3, 10, 10, 7, 10, 10, 8, 10, 11, 1, 11, 11, 3, 11, 11, 5, 11, 11, 7, 11, 12, 3, 12, 12, 4, 12, 12, 6, 12, 12, 7, 12, 13, 3, 13, 13, 4, 13, 13, 6, 13, 13, 7, 13, 14, 4, 14, 14, 5, 14, 14, 6, 14, 14, 8, 14, 15, 2, 15, 15, 3, 15, 15, 6, 15, 15, 8, 15, 16, 2, 16, 16, 4, 16, 16, 5, 16, 16, 8, 16]\n",
      "+\n",
      "\n",
      "[10, 8, 8, 11, 2, 2, 4, 4, 11, 5, 5, 11, 7, 7, 1, 12, 3, 12, 4, 4, 7, 7, 1, 13, 2, 2, 13, 4, 13, 5, 5, 5, 13, 1, 1, 14, 2, 14, 7, 7, 14, 8, 14, 15, 15, 4, 4, 3, 15, 15, 6, 3, 15, 8, 8, 15, 3, 3, 15, 16, 5, 7, 7]\n",
      "[9, 1, 9, 9, 2, 9, 9, 5, 9, 9, 8, 9, 10, 3, 10, 10, 4, 10, 10, 5, 10, 10, 8, 10, 11, 2, 11, 11, 4, 11, 11, 5, 11, 11, 7, 11, 12, 1, 12, 12, 3, 12, 12, 4, 12, 12, 7, 12, 13, 1, 13, 13, 2, 13, 13, 4, 13, 13, 5, 13, 14, 1, 14, 14, 2, 14, 14, 7, 14, 14, 8, 14, 15, 1, 15, 15, 4, 15, 15, 6, 15, 15, 8, 15, 16, 3, 16, 16, 4, 16, 16, 5, 16, 16, 7, 16]\n",
      "+\n",
      "\n",
      "[14, 6, 14, 7, 7, 3, 4, 15, 5, 5, 3, 15, 15, 8, 8, 16, 1, 1, 5, 5, 16, 6, 16, 7, 7]\n",
      "[9, 1, 9, 9, 3, 9, 9, 4, 9, 9, 5, 9, 10, 2, 10, 10, 3, 10, 10, 4, 10, 10, 7, 10, 11, 2, 11, 11, 3, 11, 11, 4, 11, 11, 7, 11, 12, 1, 12, 12, 2, 12, 12, 4, 12, 12, 8, 12, 13, 2, 13, 13, 3, 13, 13, 5, 13, 13, 8, 13, 14, 1, 14, 14, 5, 14, 14, 6, 14, 14, 7, 14, 15, 3, 15, 15, 4, 15, 15, 5, 15, 15, 8, 15, 16, 1, 16, 16, 5, 16, 16, 6, 16, 16, 7, 16]\n",
      "+\n",
      "\n"
     ]
    }
   ],
   "source": [
    "filepath = r\"calls.bam\"\n",
    "samfile = pysam.AlignmentFile(filepath, \"rb\", check_sq=False)\n",
    "seq_id = []\n",
    "positions = []\n",
    "\n",
    "\n",
    "def get_read_id(split_x: List[Any]) -> str:\n",
    "    x_id = split_x[0]\n",
    "    pattern = r\">.*!\"\n",
    "    return re.search(r\">.*!\", x_id)[0][1:-10].replace('!', '')\n",
    "\n",
    "def get_base_sequence(split_x: List[Any]) -> str:\n",
    "    return split_x[9].strip()\n",
    "\n",
    "def create_base_seq_from_motifs(\n",
    "        motif_seq: List[List[int]], motif_picks:List[str],\n",
    "        motif_links: List[str]) -> str:\n",
    "    \n",
    "    return \"\".join([\n",
    "        motif_picks[i-1] for i in motif_seq])\n",
    "\n",
    "\n",
    "def motif_search(base_seq: str, motif_picks: List[str], motif_links: List[str]):\n",
    "\n",
    "    motif_length = len(motif_picks[0]) - 13\n",
    "    motif_prediction = []\n",
    "    # Sliding window searching for motif picks\n",
    "    for i in range(0, len(base_seq) - motif_length, motif_length):\n",
    "        subseq = base_seq[i: i + motif_length]\n",
    "        for ind, j in enumerate(motif_picks):\n",
    "            if subseq in j:\n",
    "                motif_prediction.append(ind+1)\n",
    "\n",
    "    return motif_prediction\n",
    "\n",
    "\n",
    "iter = samfile.fetch(until_eof=True)\n",
    "for ind, x in enumerate(iter):\n",
    "    x = str(x)\n",
    "    split_x = x.split()\n",
    "    strand_orientation = split_x[0][-1]\n",
    "    read_id = get_read_id(split_x)\n",
    "    base_seq_prediction = get_base_sequence(split_x)\n",
    "\n",
    "    motif_label = motif_labels[read_ids.index(read_id)]\n",
    "    base_seq_true = create_base_seq_from_motifs(\n",
    "        motif_seq=motif_label, motif_picks=motif_picks, motif_links=motif_links)\n",
    "    \n",
    "    motif_prediction = motif_search(\n",
    "        base_seq=base_seq_prediction, motif_picks=motif_picks, motif_links=motif_links)\n",
    "    print(motif_prediction)\n",
    "    print(motif_label)\n",
    "    print(strand_orientation)\n",
    "    print()\n",
    "    \n",
    "    \n",
    "\n",
    "\n",
    "\n",
    "\n",
    "    if ind == 10:\n",
    "        break"
   ]
  },
  {
   "cell_type": "code",
   "execution_count": 60,
   "metadata": {},
   "outputs": [
    {
     "data": {
      "text/plain": [
       "[1, 2, 3, 4, 5]"
      ]
     },
     "execution_count": 60,
     "metadata": {},
     "output_type": "execute_result"
    }
   ],
   "source": [
    "t = [1,2,3]\n",
    "s = [4,5]\n",
    "t + s"
   ]
  },
  {
   "cell_type": "code",
   "execution_count": 55,
   "metadata": {},
   "outputs": [
    {
     "ename": "ModuleNotFoundError",
     "evalue": "No module named 'numpy._core.numeric'",
     "output_type": "error",
     "traceback": [
      "\u001b[0;31m---------------------------------------------------------------------------\u001b[0m",
      "\u001b[0;31mModuleNotFoundError\u001b[0m                       Traceback (most recent call last)",
      "File \u001b[0;32m~/anaconda3/lib/python3.12/site-packages/pandas/io/pickle.py:202\u001b[0m, in \u001b[0;36mread_pickle\u001b[0;34m(filepath_or_buffer, compression, storage_options)\u001b[0m\n\u001b[1;32m    201\u001b[0m         warnings\u001b[38;5;241m.\u001b[39msimplefilter(\u001b[38;5;124m\"\u001b[39m\u001b[38;5;124mignore\u001b[39m\u001b[38;5;124m\"\u001b[39m, \u001b[38;5;167;01mWarning\u001b[39;00m)\n\u001b[0;32m--> 202\u001b[0m         \u001b[38;5;28;01mreturn\u001b[39;00m pickle\u001b[38;5;241m.\u001b[39mload(handles\u001b[38;5;241m.\u001b[39mhandle)\n\u001b[1;32m    203\u001b[0m \u001b[38;5;28;01mexcept\u001b[39;00m excs_to_catch:\n\u001b[1;32m    204\u001b[0m     \u001b[38;5;66;03m# e.g.\u001b[39;00m\n\u001b[1;32m    205\u001b[0m     \u001b[38;5;66;03m#  \"No module named 'pandas.core.sparse.series'\"\u001b[39;00m\n\u001b[1;32m    206\u001b[0m     \u001b[38;5;66;03m#  \"Can't get attribute '__nat_unpickle' on <module 'pandas._libs.tslib\"\u001b[39;00m\n",
      "\u001b[0;31mModuleNotFoundError\u001b[0m: No module named 'numpy._core.numeric'",
      "\nDuring handling of the above exception, another exception occurred:\n",
      "\u001b[0;31mModuleNotFoundError\u001b[0m                       Traceback (most recent call last)",
      "Cell \u001b[0;32mIn[55], line 3\u001b[0m\n\u001b[1;32m      1\u001b[0m \u001b[38;5;66;03m# Squiggle database (that needs added motif search predictions)\u001b[39;00m\n\u001b[1;32m      2\u001b[0m dataset_path \u001b[38;5;241m=\u001b[39m \u001b[38;5;124mr\u001b[39m\u001b[38;5;124m\"\u001b[39m\u001b[38;5;124m/mnt/c/Users/Parv/Doc/HelixWorks/Basecalling/code/motifcaller/data/synthetic/pickled_datasets/25_2_25.pkl\u001b[39m\u001b[38;5;124m\"\u001b[39m\n\u001b[0;32m----> 3\u001b[0m dataset \u001b[38;5;241m=\u001b[39m pd\u001b[38;5;241m.\u001b[39mread_pickle(dataset_path)\n",
      "File \u001b[0;32m~/anaconda3/lib/python3.12/site-packages/pandas/io/pickle.py:207\u001b[0m, in \u001b[0;36mread_pickle\u001b[0;34m(filepath_or_buffer, compression, storage_options)\u001b[0m\n\u001b[1;32m    202\u001b[0m             \u001b[38;5;28;01mreturn\u001b[39;00m pickle\u001b[38;5;241m.\u001b[39mload(handles\u001b[38;5;241m.\u001b[39mhandle)\n\u001b[1;32m    203\u001b[0m     \u001b[38;5;28;01mexcept\u001b[39;00m excs_to_catch:\n\u001b[1;32m    204\u001b[0m         \u001b[38;5;66;03m# e.g.\u001b[39;00m\n\u001b[1;32m    205\u001b[0m         \u001b[38;5;66;03m#  \"No module named 'pandas.core.sparse.series'\"\u001b[39;00m\n\u001b[1;32m    206\u001b[0m         \u001b[38;5;66;03m#  \"Can't get attribute '__nat_unpickle' on <module 'pandas._libs.tslib\"\u001b[39;00m\n\u001b[0;32m--> 207\u001b[0m         \u001b[38;5;28;01mreturn\u001b[39;00m pc\u001b[38;5;241m.\u001b[39mload(handles\u001b[38;5;241m.\u001b[39mhandle, encoding\u001b[38;5;241m=\u001b[39m\u001b[38;5;28;01mNone\u001b[39;00m)\n\u001b[1;32m    208\u001b[0m \u001b[38;5;28;01mexcept\u001b[39;00m \u001b[38;5;167;01mUnicodeDecodeError\u001b[39;00m:\n\u001b[1;32m    209\u001b[0m     \u001b[38;5;66;03m# e.g. can occur for files written in py27; see GH#28645 and GH#31988\u001b[39;00m\n\u001b[1;32m    210\u001b[0m     \u001b[38;5;28;01mreturn\u001b[39;00m pc\u001b[38;5;241m.\u001b[39mload(handles\u001b[38;5;241m.\u001b[39mhandle, encoding\u001b[38;5;241m=\u001b[39m\u001b[38;5;124m\"\u001b[39m\u001b[38;5;124mlatin-1\u001b[39m\u001b[38;5;124m\"\u001b[39m)\n",
      "File \u001b[0;32m~/anaconda3/lib/python3.12/site-packages/pandas/compat/pickle_compat.py:231\u001b[0m, in \u001b[0;36mload\u001b[0;34m(fh, encoding, is_verbose)\u001b[0m\n\u001b[1;32m    228\u001b[0m     \u001b[38;5;66;03m# \"Unpickler\" has no attribute \"is_verbose\"  [attr-defined]\u001b[39;00m\n\u001b[1;32m    229\u001b[0m     up\u001b[38;5;241m.\u001b[39mis_verbose \u001b[38;5;241m=\u001b[39m is_verbose  \u001b[38;5;66;03m# type: ignore[attr-defined]\u001b[39;00m\n\u001b[0;32m--> 231\u001b[0m     \u001b[38;5;28;01mreturn\u001b[39;00m up\u001b[38;5;241m.\u001b[39mload()\n\u001b[1;32m    232\u001b[0m \u001b[38;5;28;01mexcept\u001b[39;00m (\u001b[38;5;167;01mValueError\u001b[39;00m, \u001b[38;5;167;01mTypeError\u001b[39;00m):\n\u001b[1;32m    233\u001b[0m     \u001b[38;5;28;01mraise\u001b[39;00m\n",
      "File \u001b[0;32m~/anaconda3/lib/python3.12/pickle.py:1255\u001b[0m, in \u001b[0;36m_Unpickler.load\u001b[0;34m(self)\u001b[0m\n\u001b[1;32m   1253\u001b[0m             \u001b[38;5;28;01mraise\u001b[39;00m \u001b[38;5;167;01mEOFError\u001b[39;00m\n\u001b[1;32m   1254\u001b[0m         \u001b[38;5;28;01massert\u001b[39;00m \u001b[38;5;28misinstance\u001b[39m(key, bytes_types)\n\u001b[0;32m-> 1255\u001b[0m         dispatch[key[\u001b[38;5;241m0\u001b[39m]](\u001b[38;5;28mself\u001b[39m)\n\u001b[1;32m   1256\u001b[0m \u001b[38;5;28;01mexcept\u001b[39;00m _Stop \u001b[38;5;28;01mas\u001b[39;00m stopinst:\n\u001b[1;32m   1257\u001b[0m     \u001b[38;5;28;01mreturn\u001b[39;00m stopinst\u001b[38;5;241m.\u001b[39mvalue\n",
      "File \u001b[0;32m~/anaconda3/lib/python3.12/pickle.py:1580\u001b[0m, in \u001b[0;36m_Unpickler.load_stack_global\u001b[0;34m(self)\u001b[0m\n\u001b[1;32m   1578\u001b[0m \u001b[38;5;28;01mif\u001b[39;00m \u001b[38;5;28mtype\u001b[39m(name) \u001b[38;5;129;01mis\u001b[39;00m \u001b[38;5;129;01mnot\u001b[39;00m \u001b[38;5;28mstr\u001b[39m \u001b[38;5;129;01mor\u001b[39;00m \u001b[38;5;28mtype\u001b[39m(module) \u001b[38;5;129;01mis\u001b[39;00m \u001b[38;5;129;01mnot\u001b[39;00m \u001b[38;5;28mstr\u001b[39m:\n\u001b[1;32m   1579\u001b[0m     \u001b[38;5;28;01mraise\u001b[39;00m UnpicklingError(\u001b[38;5;124m\"\u001b[39m\u001b[38;5;124mSTACK_GLOBAL requires str\u001b[39m\u001b[38;5;124m\"\u001b[39m)\n\u001b[0;32m-> 1580\u001b[0m \u001b[38;5;28mself\u001b[39m\u001b[38;5;241m.\u001b[39mappend(\u001b[38;5;28mself\u001b[39m\u001b[38;5;241m.\u001b[39mfind_class(module, name))\n",
      "File \u001b[0;32m~/anaconda3/lib/python3.12/site-packages/pandas/compat/pickle_compat.py:162\u001b[0m, in \u001b[0;36mUnpickler.find_class\u001b[0;34m(self, module, name)\u001b[0m\n\u001b[1;32m    160\u001b[0m key \u001b[38;5;241m=\u001b[39m (module, name)\n\u001b[1;32m    161\u001b[0m module, name \u001b[38;5;241m=\u001b[39m _class_locations_map\u001b[38;5;241m.\u001b[39mget(key, key)\n\u001b[0;32m--> 162\u001b[0m \u001b[38;5;28;01mreturn\u001b[39;00m \u001b[38;5;28msuper\u001b[39m()\u001b[38;5;241m.\u001b[39mfind_class(module, name)\n",
      "File \u001b[0;32m~/anaconda3/lib/python3.12/pickle.py:1621\u001b[0m, in \u001b[0;36m_Unpickler.find_class\u001b[0;34m(self, module, name)\u001b[0m\n\u001b[1;32m   1619\u001b[0m     \u001b[38;5;28;01melif\u001b[39;00m module \u001b[38;5;129;01min\u001b[39;00m _compat_pickle\u001b[38;5;241m.\u001b[39mIMPORT_MAPPING:\n\u001b[1;32m   1620\u001b[0m         module \u001b[38;5;241m=\u001b[39m _compat_pickle\u001b[38;5;241m.\u001b[39mIMPORT_MAPPING[module]\n\u001b[0;32m-> 1621\u001b[0m \u001b[38;5;28m__import__\u001b[39m(module, level\u001b[38;5;241m=\u001b[39m\u001b[38;5;241m0\u001b[39m)\n\u001b[1;32m   1622\u001b[0m \u001b[38;5;28;01mif\u001b[39;00m \u001b[38;5;28mself\u001b[39m\u001b[38;5;241m.\u001b[39mproto \u001b[38;5;241m>\u001b[39m\u001b[38;5;241m=\u001b[39m \u001b[38;5;241m4\u001b[39m:\n\u001b[1;32m   1623\u001b[0m     \u001b[38;5;28;01mreturn\u001b[39;00m _getattribute(sys\u001b[38;5;241m.\u001b[39mmodules[module], name)[\u001b[38;5;241m0\u001b[39m]\n",
      "\u001b[0;31mModuleNotFoundError\u001b[0m: No module named 'numpy._core.numeric'"
     ]
    }
   ],
   "source": [
    "\n",
    "# Squiggle database (that needs added motif search predictions)\n",
    "dataset_path = r\"/mnt/c/Users/Parv/Doc/HelixWorks/Basecalling/code/motifcaller/data/synthetic/pickled_datasets/25_2_25.pkl\"\n",
    "dataset = pd.read_pickle(dataset_path)\n"
   ]
  },
  {
   "cell_type": "code",
   "execution_count": null,
   "metadata": {},
   "outputs": [],
   "source": []
  }
 ],
 "metadata": {
  "kernelspec": {
   "display_name": "Python 3 (ipykernel)",
   "language": "python",
   "name": "python3"
  },
  "language_info": {
   "codemirror_mode": {
    "name": "ipython",
    "version": 3
   },
   "file_extension": ".py",
   "mimetype": "text/x-python",
   "name": "python",
   "nbconvert_exporter": "python",
   "pygments_lexer": "ipython3",
   "version": "3.12.7"
  }
 },
 "nbformat": 4,
 "nbformat_minor": 2
}
