{
 "cells": [
  {
   "cell_type": "code",
   "execution_count": 1,
   "metadata": {},
   "outputs": [],
   "source": [
    "import pysam\n",
    "import pandas as pd\n",
    "import json\n",
    "import re\n",
    "from typing import List, Any"
   ]
  },
  {
   "cell_type": "code",
   "execution_count": 7,
   "metadata": {},
   "outputs": [
    {
     "name": "stdout",
     "output_type": "stream",
     "text": [
      "/mnt/c/users/Parv/doc/Helixworks/Basecalling\n",
      " \u001b[0m\u001b[34;42mBasecalling\u001b[0m/\n",
      " \u001b[34;42mDeepSimulator\u001b[0m/\n",
      "\u001b[01;32m'Scaling Logical Density using Motif Based Approach.pdf'\u001b[0m*\n",
      " \u001b[01;32mcalls_summary.tsv\u001b[0m*\n",
      " \u001b[34;42mcode\u001b[0m/\n",
      " \u001b[34;42mcycle_dataset\u001b[0m/\n",
      " \u001b[01;32mdeepNano.pdf\u001b[0m*\n",
      " \u001b[34;42mdorado-0.5.1-win64\u001b[0m/\n",
      " \u001b[34;42menv\u001b[0m/\n",
      " \u001b[34;42mfigures\u001b[0m/\n",
      "\u001b[01;32m'improving nanopore.pdf'\u001b[0m*\n",
      " \u001b[01;32mmotif_search_limits.png\u001b[0m*\n",
      " \u001b[34;42mpresentations\u001b[0m/\n",
      " \u001b[34;42mreads_bonito\u001b[0m/\n",
      " \u001b[01;32mreport-17.pdf\u001b[0m*\n",
      " \u001b[34;42msquigulator\u001b[0m/\n"
     ]
    }
   ],
   "source": [
    "%cd /mnt/c/users/Parv/doc/Helixworks/Basecalling/\n",
    "%ls"
   ]
  },
  {
   "cell_type": "code",
   "execution_count": 9,
   "metadata": {},
   "outputs": [
    {
     "name": "stdout",
     "output_type": "stream",
     "text": [
      "/mnt/c/users/Parv/doc/Helixworks/Basecalling/squigulator/slow5tools-v1.1.0\n"
     ]
    }
   ],
   "source": [
    "%cd squigulator/slow5tools-v1.1.0/"
   ]
  },
  {
   "cell_type": "code",
   "execution_count": 12,
   "metadata": {},
   "outputs": [],
   "source": [
    "%mv testing.fast5 /mnt/c/users/Parv/doc/Helixworks/Basecalling/dorado-0.5.1-win64/"
   ]
  },
  {
   "cell_type": "code",
   "execution_count": 27,
   "metadata": {},
   "outputs": [
    {
     "name": "stdout",
     "output_type": "stream",
     "text": [
      "/mnt/c/users/Parv/doc/Helixworks/Basecalling/dorado-0.5.1-win64/dorado-0.5.1-win64/bin\n"
     ]
    }
   ],
   "source": [
    "%cd /mnt/c/users/Parv/doc/Helixworks/Basecalling/dorado-0.5.1-win64/dorado-0.5.1-win64/bin"
   ]
  },
  {
   "cell_type": "code",
   "execution_count": 46,
   "metadata": {},
   "outputs": [
    {
     "name": "stdout",
     "output_type": "stream",
     "text": [
      "[2025-03-12 12:35:30.002] [info] > Creating basecall pipeline\n",
      "[2025-03-12 12:35:33.342] [info]  - set batch size for cuda:0 to 512\n",
      "[2025-03-12 12:35:33.366] [warning] FAST5 support is unoptimized and will result in poor performance. Please convert your dataset to POD5: https://pod5-file-format.readthedocs.io/en/latest/docs/tools.html#pod5-convert-fast5\n",
      "[2025-03-12 12:36:10.732] [info] > Simplex reads basecalled: 20000\n",
      "[2025-03-12 12:36:10.732] [info] > Basecalled @ Samples/s: 3.530267e+06\n",
      "[2025-03-12 12:36:10.770] [info] > Finished\n"
     ]
    }
   ],
   "source": [
    "! ./dorado.exe basecaller dna_r9.4.1_e8_hac@v3.3 testing.fast5 > calls.bam"
   ]
  },
  {
   "cell_type": "code",
   "execution_count": 47,
   "metadata": {},
   "outputs": [
    {
     "data": {
      "text/plain": [
       "'/mnt/c/users/Parv/doc/Helixworks/Basecalling/dorado-0.5.1-win64/dorado-0.5.1-win64/bin'"
      ]
     },
     "execution_count": 47,
     "metadata": {},
     "output_type": "execute_result"
    }
   ],
   "source": [
    "%pwd"
   ]
  },
  {
   "cell_type": "code",
   "execution_count": 52,
   "metadata": {},
   "outputs": [
    {
     "ename": "FileNotFoundError",
     "evalue": "[Errno 2] No such file or directory: 'mnt/c/users/Parv/doc/HelixWorks/Basecalling/code/motifcaller/notebooks/info.json'",
     "output_type": "error",
     "traceback": [
      "\u001b[0;31m---------------------------------------------------------------------------\u001b[0m",
      "\u001b[0;31mFileNotFoundError\u001b[0m                         Traceback (most recent call last)",
      "Cell \u001b[0;32mIn[52], line 3\u001b[0m\n\u001b[1;32m      1\u001b[0m \u001b[38;5;66;03m## original bases and motifs (pre sequencing)\u001b[39;00m\n\u001b[0;32m----> 3\u001b[0m \u001b[38;5;28;01mwith\u001b[39;00m \u001b[38;5;28mopen\u001b[39m(\u001b[38;5;124mr\u001b[39m\u001b[38;5;124m\"\u001b[39m\u001b[38;5;124mmnt/c/users/Parv/doc/HelixWorks/Basecalling/code/motifcaller/notebooks/info.json\u001b[39m\u001b[38;5;124m\"\u001b[39m, \u001b[38;5;124m'\u001b[39m\u001b[38;5;124mr\u001b[39m\u001b[38;5;124m'\u001b[39m) \u001b[38;5;28;01mas\u001b[39;00m f:\n\u001b[1;32m      4\u001b[0m     info_dict \u001b[38;5;241m=\u001b[39m json\u001b[38;5;241m.\u001b[39mload(f)\n\u001b[1;32m      6\u001b[0m read_ids \u001b[38;5;241m=\u001b[39m info_dict[\u001b[38;5;124m'\u001b[39m\u001b[38;5;124mread_ids\u001b[39m\u001b[38;5;124m'\u001b[39m]\n",
      "File \u001b[0;32m~/anaconda3/lib/python3.12/site-packages/IPython/core/interactiveshell.py:324\u001b[0m, in \u001b[0;36m_modified_open\u001b[0;34m(file, *args, **kwargs)\u001b[0m\n\u001b[1;32m    317\u001b[0m \u001b[38;5;28;01mif\u001b[39;00m file \u001b[38;5;129;01min\u001b[39;00m {\u001b[38;5;241m0\u001b[39m, \u001b[38;5;241m1\u001b[39m, \u001b[38;5;241m2\u001b[39m}:\n\u001b[1;32m    318\u001b[0m     \u001b[38;5;28;01mraise\u001b[39;00m \u001b[38;5;167;01mValueError\u001b[39;00m(\n\u001b[1;32m    319\u001b[0m         \u001b[38;5;124mf\u001b[39m\u001b[38;5;124m\"\u001b[39m\u001b[38;5;124mIPython won\u001b[39m\u001b[38;5;124m'\u001b[39m\u001b[38;5;124mt let you open fd=\u001b[39m\u001b[38;5;132;01m{\u001b[39;00mfile\u001b[38;5;132;01m}\u001b[39;00m\u001b[38;5;124m by default \u001b[39m\u001b[38;5;124m\"\u001b[39m\n\u001b[1;32m    320\u001b[0m         \u001b[38;5;124m\"\u001b[39m\u001b[38;5;124mas it is likely to crash IPython. If you know what you are doing, \u001b[39m\u001b[38;5;124m\"\u001b[39m\n\u001b[1;32m    321\u001b[0m         \u001b[38;5;124m\"\u001b[39m\u001b[38;5;124myou can use builtins\u001b[39m\u001b[38;5;124m'\u001b[39m\u001b[38;5;124m open.\u001b[39m\u001b[38;5;124m\"\u001b[39m\n\u001b[1;32m    322\u001b[0m     )\n\u001b[0;32m--> 324\u001b[0m \u001b[38;5;28;01mreturn\u001b[39;00m io_open(file, \u001b[38;5;241m*\u001b[39margs, \u001b[38;5;241m*\u001b[39m\u001b[38;5;241m*\u001b[39mkwargs)\n",
      "\u001b[0;31mFileNotFoundError\u001b[0m: [Errno 2] No such file or directory: 'mnt/c/users/Parv/doc/HelixWorks/Basecalling/code/motifcaller/notebooks/info.json'"
     ]
    }
   ],
   "source": [
    "\n",
    "## original bases and motifs (pre sequencing)\n",
    "\n",
    "with open(r\"mnt/c/users/Parv/doc/HelixWorks/Basecalling/code/motifcaller/notebooks/info.json\", 'r') as f:\n",
    "    info_dict = json.load(f)\n",
    "\n",
    "read_ids = info_dict['read_ids']"
   ]
  },
  {
   "cell_type": "code",
   "execution_count": 33,
   "metadata": {},
   "outputs": [],
   "source": [
    "motif_picks = info_dict['motif_choices']\n",
    "motif_labels = info_dict['motif_labels']\n",
    "motif_links = info_dict['link_choices']"
   ]
  },
  {
   "cell_type": "code",
   "execution_count": 68,
   "metadata": {},
   "outputs": [
    {
     "data": {
      "text/plain": [
       "['CCACTAACGTAGAGTACTGC',\n",
       " 'GTCGAGGATAATTGTGCAGA',\n",
       " 'CACCCCCGTATTTTGAGCGG',\n",
       " 'ATCCTAGCGTTTTCGAACGT',\n",
       " 'CACGTTGTTTTATCGTCGTC',\n",
       " 'GTCTCCCCAGGAACGGTGCC',\n",
       " 'GCATGAAGACACTAGCGCCT',\n",
       " 'CAGCGCCACCAACTCCACAA',\n",
       " 'GTGCGGCCGT',\n",
       " 'GGGACAGCTA',\n",
       " 'ACATCAGTCG',\n",
       " 'CCTTCATACC',\n",
       " 'GTCCATCCAC',\n",
       " 'ATGACGTCGG',\n",
       " 'AGCTTTGAGC',\n",
       " 'TTCACACCTT']"
      ]
     },
     "execution_count": 68,
     "metadata": {},
     "output_type": "execute_result"
    }
   ],
   "source": [
    "motif_picks"
   ]
  },
  {
   "cell_type": "code",
   "execution_count": 53,
   "metadata": {},
   "outputs": [],
   "source": [
    "\n",
    "\n",
    "def get_read_id(split_x: List[Any]) -> str:\n",
    "    x_id = split_x[0]\n",
    "    pattern = r\">.*!\"\n",
    "    return re.search(r\">.*!\", x_id)[0][1:-10].replace('!', '')\n",
    "\n",
    "def get_base_sequence(split_x: List[Any]) -> str:\n",
    "    return split_x[9].strip()\n",
    "\n",
    "def create_base_seq_from_motifs(\n",
    "        motif_seq: List[List[int]], motif_picks:List[str],\n",
    "        motif_links: List[str]) -> str:\n",
    "    \n",
    "    return \"\".join([\n",
    "        motif_picks[i-1] for i in motif_seq])\n",
    "\n",
    "\n",
    "\n",
    "def motif_search(base_seq: str, motif_picks: List[str], motif_links: List[str]):\n",
    "\n",
    "    motif_length = len(motif_picks[0]) - 13\n",
    "    motif_prediction = []\n",
    "    # Sliding window searching for motif picks\n",
    "    for i in range(0, len(base_seq) - motif_length, motif_length):\n",
    "        subseq = base_seq[i: i + motif_length]\n",
    "        for ind, j in enumerate(motif_picks):\n",
    "            if subseq in j:\n",
    "                motif_prediction.append(ind+1)\n",
    "\n",
    "    return motif_prediction\n"
   ]
  },
  {
   "cell_type": "code",
   "execution_count": 58,
   "metadata": {},
   "outputs": [],
   "source": [
    "\n",
    "def get_base_predictions_df(bam_filepath: str) -> pd.DataFrame:\n",
    "\n",
    "    samfile = pysam.AlignmentFile(\n",
    "        bam_filepath, \"rb\", check_sq=False)\n",
    "    seq_id = []\n",
    "    positions = []\n",
    "\n",
    "    read_ids_fasta = []\n",
    "    read_ids_fast5 = []\n",
    "    base_seq_predictions = []\n",
    "\n",
    "    iter = samfile.fetch(until_eof=True)\n",
    "    for ind, x in enumerate(iter):\n",
    "        x = str(x)\n",
    "        split_x = x.split()\n",
    "        strand_orientation = split_x[0][-1]\n",
    "        read_id_fasta = get_read_id(split_x)\n",
    "        base_seq_prediction = get_base_sequence(split_x)\n",
    "\n",
    "        base_seq_predictions.append(base_seq_prediction)\n",
    "        read_ids_fasta.append(read_id_fasta)\n",
    "        read_ids_fast5.append(split_x[0])\n",
    "\n",
    "    df = pd.DataFrame()\n",
    "    df['read_ids_fasta'] = read_ids_fasta\n",
    "    df['read_ids_fast5'] = read_ids_fast5\n",
    "    df['base_predictions'] = base_seq_predictions\n",
    "\n",
    "    return df\n",
    "        "
   ]
  },
  {
   "cell_type": "code",
   "execution_count": 59,
   "metadata": {},
   "outputs": [],
   "source": [
    "df = get_base_predictions_df(\"/mnt/c/users/Parv/doc/Helixworks/Basecalling/dorado-0.5.1-win64/dorado-0.5.1-win64/bin/calls.bam\")"
   ]
  },
  {
   "cell_type": "code",
   "execution_count": 67,
   "metadata": {},
   "outputs": [],
   "source": [
    "df.to_csv(\"basecalled.csv\")"
   ]
  },
  {
   "cell_type": "code",
   "execution_count": 66,
   "metadata": {},
   "outputs": [
    {
     "name": "stdout",
     "output_type": "stream",
     "text": [
      "/mnt/c/users/Parv/doc/Helixworks/Basecalling/code/motifcaller\n"
     ]
    }
   ],
   "source": [
    "%cd /mnt/c/users/Parv/doc/Helixworks/Basecalling/code/motifcaller/"
   ]
  },
  {
   "cell_type": "code",
   "execution_count": 55,
   "metadata": {},
   "outputs": [
    {
     "ename": "ModuleNotFoundError",
     "evalue": "No module named 'numpy._core.numeric'",
     "output_type": "error",
     "traceback": [
      "\u001b[0;31m---------------------------------------------------------------------------\u001b[0m",
      "\u001b[0;31mModuleNotFoundError\u001b[0m                       Traceback (most recent call last)",
      "File \u001b[0;32m~/anaconda3/lib/python3.12/site-packages/pandas/io/pickle.py:202\u001b[0m, in \u001b[0;36mread_pickle\u001b[0;34m(filepath_or_buffer, compression, storage_options)\u001b[0m\n\u001b[1;32m    201\u001b[0m         warnings\u001b[38;5;241m.\u001b[39msimplefilter(\u001b[38;5;124m\"\u001b[39m\u001b[38;5;124mignore\u001b[39m\u001b[38;5;124m\"\u001b[39m, \u001b[38;5;167;01mWarning\u001b[39;00m)\n\u001b[0;32m--> 202\u001b[0m         \u001b[38;5;28;01mreturn\u001b[39;00m pickle\u001b[38;5;241m.\u001b[39mload(handles\u001b[38;5;241m.\u001b[39mhandle)\n\u001b[1;32m    203\u001b[0m \u001b[38;5;28;01mexcept\u001b[39;00m excs_to_catch:\n\u001b[1;32m    204\u001b[0m     \u001b[38;5;66;03m# e.g.\u001b[39;00m\n\u001b[1;32m    205\u001b[0m     \u001b[38;5;66;03m#  \"No module named 'pandas.core.sparse.series'\"\u001b[39;00m\n\u001b[1;32m    206\u001b[0m     \u001b[38;5;66;03m#  \"Can't get attribute '__nat_unpickle' on <module 'pandas._libs.tslib\"\u001b[39;00m\n",
      "\u001b[0;31mModuleNotFoundError\u001b[0m: No module named 'numpy._core.numeric'",
      "\nDuring handling of the above exception, another exception occurred:\n",
      "\u001b[0;31mModuleNotFoundError\u001b[0m                       Traceback (most recent call last)",
      "Cell \u001b[0;32mIn[55], line 3\u001b[0m\n\u001b[1;32m      1\u001b[0m \u001b[38;5;66;03m# Squiggle database (that needs added motif search predictions)\u001b[39;00m\n\u001b[1;32m      2\u001b[0m dataset_path \u001b[38;5;241m=\u001b[39m \u001b[38;5;124mr\u001b[39m\u001b[38;5;124m\"\u001b[39m\u001b[38;5;124m/mnt/c/Users/Parv/Doc/HelixWorks/Basecalling/code/motifcaller/data/synthetic/pickled_datasets/25_2_25.pkl\u001b[39m\u001b[38;5;124m\"\u001b[39m\n\u001b[0;32m----> 3\u001b[0m dataset \u001b[38;5;241m=\u001b[39m pd\u001b[38;5;241m.\u001b[39mread_pickle(dataset_path)\n",
      "File \u001b[0;32m~/anaconda3/lib/python3.12/site-packages/pandas/io/pickle.py:207\u001b[0m, in \u001b[0;36mread_pickle\u001b[0;34m(filepath_or_buffer, compression, storage_options)\u001b[0m\n\u001b[1;32m    202\u001b[0m             \u001b[38;5;28;01mreturn\u001b[39;00m pickle\u001b[38;5;241m.\u001b[39mload(handles\u001b[38;5;241m.\u001b[39mhandle)\n\u001b[1;32m    203\u001b[0m     \u001b[38;5;28;01mexcept\u001b[39;00m excs_to_catch:\n\u001b[1;32m    204\u001b[0m         \u001b[38;5;66;03m# e.g.\u001b[39;00m\n\u001b[1;32m    205\u001b[0m         \u001b[38;5;66;03m#  \"No module named 'pandas.core.sparse.series'\"\u001b[39;00m\n\u001b[1;32m    206\u001b[0m         \u001b[38;5;66;03m#  \"Can't get attribute '__nat_unpickle' on <module 'pandas._libs.tslib\"\u001b[39;00m\n\u001b[0;32m--> 207\u001b[0m         \u001b[38;5;28;01mreturn\u001b[39;00m pc\u001b[38;5;241m.\u001b[39mload(handles\u001b[38;5;241m.\u001b[39mhandle, encoding\u001b[38;5;241m=\u001b[39m\u001b[38;5;28;01mNone\u001b[39;00m)\n\u001b[1;32m    208\u001b[0m \u001b[38;5;28;01mexcept\u001b[39;00m \u001b[38;5;167;01mUnicodeDecodeError\u001b[39;00m:\n\u001b[1;32m    209\u001b[0m     \u001b[38;5;66;03m# e.g. can occur for files written in py27; see GH#28645 and GH#31988\u001b[39;00m\n\u001b[1;32m    210\u001b[0m     \u001b[38;5;28;01mreturn\u001b[39;00m pc\u001b[38;5;241m.\u001b[39mload(handles\u001b[38;5;241m.\u001b[39mhandle, encoding\u001b[38;5;241m=\u001b[39m\u001b[38;5;124m\"\u001b[39m\u001b[38;5;124mlatin-1\u001b[39m\u001b[38;5;124m\"\u001b[39m)\n",
      "File \u001b[0;32m~/anaconda3/lib/python3.12/site-packages/pandas/compat/pickle_compat.py:231\u001b[0m, in \u001b[0;36mload\u001b[0;34m(fh, encoding, is_verbose)\u001b[0m\n\u001b[1;32m    228\u001b[0m     \u001b[38;5;66;03m# \"Unpickler\" has no attribute \"is_verbose\"  [attr-defined]\u001b[39;00m\n\u001b[1;32m    229\u001b[0m     up\u001b[38;5;241m.\u001b[39mis_verbose \u001b[38;5;241m=\u001b[39m is_verbose  \u001b[38;5;66;03m# type: ignore[attr-defined]\u001b[39;00m\n\u001b[0;32m--> 231\u001b[0m     \u001b[38;5;28;01mreturn\u001b[39;00m up\u001b[38;5;241m.\u001b[39mload()\n\u001b[1;32m    232\u001b[0m \u001b[38;5;28;01mexcept\u001b[39;00m (\u001b[38;5;167;01mValueError\u001b[39;00m, \u001b[38;5;167;01mTypeError\u001b[39;00m):\n\u001b[1;32m    233\u001b[0m     \u001b[38;5;28;01mraise\u001b[39;00m\n",
      "File \u001b[0;32m~/anaconda3/lib/python3.12/pickle.py:1255\u001b[0m, in \u001b[0;36m_Unpickler.load\u001b[0;34m(self)\u001b[0m\n\u001b[1;32m   1253\u001b[0m             \u001b[38;5;28;01mraise\u001b[39;00m \u001b[38;5;167;01mEOFError\u001b[39;00m\n\u001b[1;32m   1254\u001b[0m         \u001b[38;5;28;01massert\u001b[39;00m \u001b[38;5;28misinstance\u001b[39m(key, bytes_types)\n\u001b[0;32m-> 1255\u001b[0m         dispatch[key[\u001b[38;5;241m0\u001b[39m]](\u001b[38;5;28mself\u001b[39m)\n\u001b[1;32m   1256\u001b[0m \u001b[38;5;28;01mexcept\u001b[39;00m _Stop \u001b[38;5;28;01mas\u001b[39;00m stopinst:\n\u001b[1;32m   1257\u001b[0m     \u001b[38;5;28;01mreturn\u001b[39;00m stopinst\u001b[38;5;241m.\u001b[39mvalue\n",
      "File \u001b[0;32m~/anaconda3/lib/python3.12/pickle.py:1580\u001b[0m, in \u001b[0;36m_Unpickler.load_stack_global\u001b[0;34m(self)\u001b[0m\n\u001b[1;32m   1578\u001b[0m \u001b[38;5;28;01mif\u001b[39;00m \u001b[38;5;28mtype\u001b[39m(name) \u001b[38;5;129;01mis\u001b[39;00m \u001b[38;5;129;01mnot\u001b[39;00m \u001b[38;5;28mstr\u001b[39m \u001b[38;5;129;01mor\u001b[39;00m \u001b[38;5;28mtype\u001b[39m(module) \u001b[38;5;129;01mis\u001b[39;00m \u001b[38;5;129;01mnot\u001b[39;00m \u001b[38;5;28mstr\u001b[39m:\n\u001b[1;32m   1579\u001b[0m     \u001b[38;5;28;01mraise\u001b[39;00m UnpicklingError(\u001b[38;5;124m\"\u001b[39m\u001b[38;5;124mSTACK_GLOBAL requires str\u001b[39m\u001b[38;5;124m\"\u001b[39m)\n\u001b[0;32m-> 1580\u001b[0m \u001b[38;5;28mself\u001b[39m\u001b[38;5;241m.\u001b[39mappend(\u001b[38;5;28mself\u001b[39m\u001b[38;5;241m.\u001b[39mfind_class(module, name))\n",
      "File \u001b[0;32m~/anaconda3/lib/python3.12/site-packages/pandas/compat/pickle_compat.py:162\u001b[0m, in \u001b[0;36mUnpickler.find_class\u001b[0;34m(self, module, name)\u001b[0m\n\u001b[1;32m    160\u001b[0m key \u001b[38;5;241m=\u001b[39m (module, name)\n\u001b[1;32m    161\u001b[0m module, name \u001b[38;5;241m=\u001b[39m _class_locations_map\u001b[38;5;241m.\u001b[39mget(key, key)\n\u001b[0;32m--> 162\u001b[0m \u001b[38;5;28;01mreturn\u001b[39;00m \u001b[38;5;28msuper\u001b[39m()\u001b[38;5;241m.\u001b[39mfind_class(module, name)\n",
      "File \u001b[0;32m~/anaconda3/lib/python3.12/pickle.py:1621\u001b[0m, in \u001b[0;36m_Unpickler.find_class\u001b[0;34m(self, module, name)\u001b[0m\n\u001b[1;32m   1619\u001b[0m     \u001b[38;5;28;01melif\u001b[39;00m module \u001b[38;5;129;01min\u001b[39;00m _compat_pickle\u001b[38;5;241m.\u001b[39mIMPORT_MAPPING:\n\u001b[1;32m   1620\u001b[0m         module \u001b[38;5;241m=\u001b[39m _compat_pickle\u001b[38;5;241m.\u001b[39mIMPORT_MAPPING[module]\n\u001b[0;32m-> 1621\u001b[0m \u001b[38;5;28m__import__\u001b[39m(module, level\u001b[38;5;241m=\u001b[39m\u001b[38;5;241m0\u001b[39m)\n\u001b[1;32m   1622\u001b[0m \u001b[38;5;28;01mif\u001b[39;00m \u001b[38;5;28mself\u001b[39m\u001b[38;5;241m.\u001b[39mproto \u001b[38;5;241m>\u001b[39m\u001b[38;5;241m=\u001b[39m \u001b[38;5;241m4\u001b[39m:\n\u001b[1;32m   1623\u001b[0m     \u001b[38;5;28;01mreturn\u001b[39;00m _getattribute(sys\u001b[38;5;241m.\u001b[39mmodules[module], name)[\u001b[38;5;241m0\u001b[39m]\n",
      "\u001b[0;31mModuleNotFoundError\u001b[0m: No module named 'numpy._core.numeric'"
     ]
    }
   ],
   "source": [
    "\n",
    "# Squiggle database (that needs added motif search predictions)\n",
    "dataset_path = r\"/mnt/c/Users/Parv/Doc/HelixWorks/Basecalling/code/motifcaller/data/synthetic/pickled_datasets/25_2_25.pkl\"\n",
    "dataset = pd.read_pickle(dataset_path)\n"
   ]
  },
  {
   "cell_type": "code",
   "execution_count": null,
   "metadata": {},
   "outputs": [],
   "source": []
  }
 ],
 "metadata": {
  "kernelspec": {
   "display_name": "Python 3 (ipykernel)",
   "language": "python",
   "name": "python3"
  },
  "language_info": {
   "codemirror_mode": {
    "name": "ipython",
    "version": 3
   },
   "file_extension": ".py",
   "mimetype": "text/x-python",
   "name": "python",
   "nbconvert_exporter": "python",
   "pygments_lexer": "ipython3",
   "version": "3.12.7"
  }
 },
 "nbformat": 4,
 "nbformat_minor": 2
}
