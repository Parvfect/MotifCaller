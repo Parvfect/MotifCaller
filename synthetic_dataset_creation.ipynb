{
 "cells": [
  {
   "cell_type": "code",
   "execution_count": 1,
   "metadata": {},
   "outputs": [],
   "source": [
    "import random\n",
    "import numpy as np\n",
    "import pandas as pd\n",
    "from itertools import combinations\n",
    "from tqdm.notebook import tqdm\n",
    "import uuid\n",
    "import matplotlib.pyplot as plt\n",
    "import json \n",
    "from typing import List, Dict, Tuple, Any\n",
    "from Levenshtein import distance\n",
    "from Bio import Align"
   ]
  },
  {
   "cell_type": "code",
   "execution_count": 2,
   "metadata": {},
   "outputs": [],
   "source": [
    "def create_random_strand(len_strand: int) -> str:\n",
    "    choices = ['A', 'C', 'T', 'G']\n",
    "    return \"\".join([random.choice(choices) for i in range(len_strand)])\n",
    "\n",
    "def create_spacer_sequence(cycles, links=True):\n",
    "    \"\"\" Create motif level label for the model\"\"\"\n",
    "\n",
    "    spacer_sequence = []\n",
    "\n",
    "\n",
    "    cycle_number = 9\n",
    "        \n",
    "    for i in cycles:\n",
    "        for j in i:\n",
    "            if links:\n",
    "                spacer_sequence.append(cycle_number)\n",
    "            spacer_sequence.append(j)\n",
    "            if links:\n",
    "                spacer_sequence.append(cycle_number)\n",
    "        cycle_number += 1\n",
    "\n",
    "    return spacer_sequence\n",
    "\n",
    "def reverse_complement(dna: str) -> str:\n",
    "    complement = {'A': 'T', 'T': 'A', 'C': 'G', 'G': 'C'}\n",
    "    return ''.join(complement[base] for base in reversed(dna))"
   ]
  },
  {
   "cell_type": "markdown",
   "metadata": {},
   "source": [
    "### Writing to fasta file"
   ]
  },
  {
   "cell_type": "code",
   "execution_count": 3,
   "metadata": {},
   "outputs": [],
   "source": [
    "\n",
    "# First let us see if squigulator lets us seperate out into cycle reads, cause that will make life much simpler\n",
    "\n",
    "n_motifs_per_read = 200\n",
    "n_unique_motifs = 8\n",
    "n_spacer_motifs = 8\n",
    "motifs_per_payload = 4\n",
    "len_motif = 20\n",
    "len_link = 10\n",
    "n_cycles = 8\n",
    "\n",
    "motif_choices = [create_random_strand(len_motif) for i in range(n_unique_motifs)]\n",
    "link_choices = [create_random_strand(len_link) for i in range(n_spacer_motifs)]\n",
    "motif_indices = [1, 2, 3, 4, 5, 6, 7, 8]"
   ]
  },
  {
   "cell_type": "code",
   "execution_count": 4,
   "metadata": {},
   "outputs": [],
   "source": [
    "\n",
    "def get_cycle_fasta(\n",
    "        n_reads: int, motif_indices: List[int], motif_choices: List[str],\n",
    "        link_choices: List[str], n_cycles: int, links: bool = True) -> Tuple[List[str], List[List[Tuple]], List[List[int]]]:\n",
    "    reads_base_level = []\n",
    "    reads_motif_level = []\n",
    "    motif_labels = []\n",
    "    motif_picks = list(combinations(motif_indices, 4)) # Storing all possible combinations to draw from\n",
    "\n",
    "\n",
    "    for read in tqdm(range(n_reads)):\n",
    "        read_base_level = \"\"\n",
    "        read_motif_level = []\n",
    "        for cycle_position in range(n_cycles):\n",
    "            payload_motifs = random.choice(motif_picks)\n",
    "            \n",
    "            if links:\n",
    "                payload_read_base_level = \"\".join([f\"{link_choices[cycle_position]}{motif_choices[i-1]}{link_choices[cycle_position]}\" for i in payload_motifs])\n",
    "            else:\n",
    "                payload_read_base_level = \"\".join([f\"{motif_choices[i-1]}\" for i in payload_motifs])\n",
    "            read_base_level += payload_read_base_level\n",
    "            read_motif_level.append(payload_motifs)\n",
    "        reads_base_level.append(read_base_level)\n",
    "        reads_motif_level.append(read_motif_level)\n",
    "        motif_label = create_spacer_sequence(read_motif_level, links=links)\n",
    "        motif_labels.append(motif_label)\n",
    "\n",
    "    return reads_base_level, reads_motif_level, motif_labels\n",
    "\n",
    "\n",
    "def get_random_fasta(n_reads: int, read_length: int, motif_choices: List[str]) -> Tuple[List[str], List[List[int]]]:\n",
    "\n",
    "    reads_base_level = []\n",
    "    motif_label_arr = []\n",
    "    for i in range(n_reads):\n",
    "        ptr = 0\n",
    "        read_base_level = \"\"\n",
    "        motif_label = []\n",
    "        while ptr < read_length:\n",
    "            motif_index = random.choice(motif_indices) - 1\n",
    "            motif_label.append(motif_indices[motif_index])\n",
    "            read_base_level += motif_choices[motif_index]\n",
    "            ptr += len(motif_choices[0])\n",
    "        motif_label_arr.append(motif_label)\n",
    "        reads_base_level.append(read_base_level)\n",
    "\n",
    "    return reads_base_level, motif_label_arr\n",
    "        \n"
   ]
  },
  {
   "cell_type": "code",
   "execution_count": null,
   "metadata": {},
   "outputs": [
    {
     "data": {
      "application/vnd.jupyter.widget-view+json": {
       "model_id": "5e0124c16e534532be34f78b245a7786",
       "version_major": 2,
       "version_minor": 0
      },
      "text/plain": [
       "  0%|          | 0/10000 [00:00<?, ?it/s]"
      ]
     },
     "metadata": {},
     "output_type": "display_data"
    }
   ],
   "source": [
    "reads_base_level, reads_motif_level, motif_labels = get_cycle_fasta(n_reads=10000, motif_indices=motif_indices, motif_choices=motif_choices, link_choices=link_choices, n_cycles=n_cycles, links=True)"
   ]
  },
  {
   "cell_type": "code",
   "execution_count": 20,
   "metadata": {},
   "outputs": [],
   "source": [
    "reads_base_level, motif_label_arr = get_random_fasta(n_reads=10000, read_length=300, motif_choices=motif_choices)"
   ]
  },
  {
   "cell_type": "code",
   "execution_count": 18,
   "metadata": {},
   "outputs": [],
   "source": [
    "ids = [str(uuid.uuid4()) for i in range(10000)]"
   ]
  },
  {
   "cell_type": "code",
   "execution_count": 10,
   "metadata": {},
   "outputs": [],
   "source": [
    "experiment_dict = {\n",
    "    \"motif_choices\": motif_choices, \n",
    "    \"link_choices\": link_choices,\n",
    "    \"motif_labels\": motif_labels,\n",
    "    \"read_ids\": ids,\n",
    "    \"reads_base_level\": reads_base_level\n",
    "}\n",
    "\n",
    "# write it as a json file to the data path to make sure the run information is validated\n",
    "\n",
    "with open('info.json', 'w') as f:\n",
    "    json.dump(experiment_dict, f)"
   ]
  },
  {
   "cell_type": "code",
   "execution_count": 19,
   "metadata": {},
   "outputs": [],
   "source": [
    "# writing to fasta file\n",
    "\n",
    "base_filepath = r\"C:\\Users\\Parv\\Doc\\HelixWorks\\Basecalling\\squigulator\\split.fa\"\n",
    "\n",
    "with open(base_filepath, \"w\") as f:\n",
    "    for ind in range(len(ids)):\n",
    "        f.write(f\">>{ids[ind]}\\n\")\n",
    "        f.write(reads_base_level[ind] + \"\\n\\n\")"
   ]
  },
  {
   "cell_type": "code",
   "execution_count": 65,
   "metadata": {},
   "outputs": [],
   "source": [
    "base_filepath = r\"C:\\Users\\Parv\\Doc\\HelixWorks\\Basecalling\\squigulator\\split.fa\"\n",
    "with open(base_filepath, 'r') as f:\n",
    "    fasta_seq = f.readlines()[1]\n"
   ]
  },
  {
   "cell_type": "markdown",
   "metadata": {},
   "source": [
    "### Loading fast5 data after generating via Squigulator"
   ]
  },
  {
   "cell_type": "code",
   "execution_count": 21,
   "metadata": {},
   "outputs": [],
   "source": [
    "\n",
    "from ont_fast5_api.fast5_interface import get_fast5_file\n",
    "\n",
    "def get_data_from_fast5(fast5_filepath: str) -> Tuple[List[Any], List[str]]:\n",
    "    raw_data_arr = []\n",
    "    read_ids = []\n",
    "    with get_fast5_file(fast5_filepath, mode=\"r\") as f5:\n",
    "        for read in f5.get_reads():\n",
    "            raw_data = read.get_raw_data()\n",
    "            raw_data_arr.append(raw_data)\n",
    "            read_ids.append(read.read_id)\n",
    "    return raw_data_arr, read_ids\n",
    "\n",
    "\n",
    "def add_remainder_motif(ptr: int) -> int:\n",
    "\n",
    "    # Adding the motif if majority of it is present\n",
    "    # Hardcoded, spacer is 10 and payload is 20 S - P - S\n",
    "    if ptr < 21 and ptr > 5:\n",
    "        return 1\n",
    "    elif ptr < 36  and ptr >= 21:\n",
    "        return 2\n",
    "    elif ptr < 40 and ptr >= 36:\n",
    "        return 3\n",
    "    return 0\n",
    "\n",
    "def get_motif_sequence(\n",
    "        starting_pos: int, ending_pos: int,\n",
    "        motif_read: List[int]) -> List[int]:\n",
    "\n",
    "    # Mod by 40 to get paylaod number\n",
    "    starting_index = int(starting_pos / 40)\n",
    "    ptr = starting_pos\n",
    "    starting_index *= 3\n",
    "\n",
    "    ptr %= 40\n",
    "\n",
    "    starting_index += add_remainder_motif(ptr)\n",
    "\n",
    "    # Mod by 40 to get paylaod number\n",
    "    ending_index = int(ending_pos / 40)\n",
    "    ptr = ending_pos\n",
    "    ending_index *= 3\n",
    "\n",
    "    ptr %= 40\n",
    "\n",
    "    ending_index += add_remainder_motif(ptr)\n",
    "\n",
    "\n",
    "    return motif_read[starting_index: ending_index]\n",
    "\n",
    "def motif_search(base_seq: str, motif_picks: List[str]):\n",
    "\n",
    "    motif_length = len(motif_picks[10]) - 1\n",
    "    motif_prediction = []\n",
    "    # Sliding window searching for motif picks\n",
    "    for i in range(0, len(base_seq) - motif_length, motif_length):\n",
    "        subseq = base_seq[i: i + motif_length]\n",
    "        for ind, j in enumerate(motif_picks[8:]):\n",
    "            if subseq in j:\n",
    "                motif_prediction.append(ind+1)\n",
    "\n",
    "    return motif_prediction\n",
    "\n",
    "def load_info_dict(info_dict_filepath: str) -> dict:\n",
    "    with open(info_dict_filepath, 'r') as f:\n",
    "        exp_dict = json.load(f)\n",
    "\n",
    "    return exp_dict\n",
    "\n",
    "def unpack_info_dict(\n",
    "        info_dict: dict) -> Tuple[\n",
    "            List[str], List[str], List[List[int]]]:\n",
    "    return info_dict['read_ids'], info_dict['motif_choices'] + info_dict['link_choices'], info_dict['motif_labels'], info_dict['reads_base_level']"
   ]
  },
  {
   "cell_type": "code",
   "execution_count": 22,
   "metadata": {},
   "outputs": [],
   "source": [
    "fast5_filepath = r\"C:\\Users\\Parv\\Doc\\HelixWorks\\Basecalling\\squigulator\\slow5tools-v1.1.0\\testing.fast5\"\n",
    "fast5_raw_data, fast5_read_ids = get_data_from_fast5(fast5_filepath)"
   ]
  },
  {
   "cell_type": "code",
   "execution_count": null,
   "metadata": {},
   "outputs": [],
   "source": [
    "info_dict_filepath = r\"C:\\Users\\Parv\\Doc\\HelixWorks\\Basecalling\\code\\motifcaller\\notebooks\\info.json\"\n",
    "fasta_read_ids, motif_choices, motif_labels, reads_base_level = unpack_info_dict(\n",
    "    load_info_dict(info_dict_filepath))"
   ]
  },
  {
   "cell_type": "code",
   "execution_count": 23,
   "metadata": {},
   "outputs": [],
   "source": [
    "import math"
   ]
  },
  {
   "cell_type": "code",
   "execution_count": 24,
   "metadata": {},
   "outputs": [],
   "source": [
    "def create_motif_label(motif_seq: List[int]) -> List[int]:\n",
    "    \"\"\" 12 4 12 12 3 12 -> 12 4 2 3 4 12 13 2 4 5 3 13\"\"\"\n",
    "\n",
    "    spacer_seq = [i for i in motif_seq if i > 8]\n",
    "    starting_cycle = spacer_seq[0]\n",
    "    ending_cycle = spacer_seq[-1]\n",
    "\n",
    "    payload_seq = [i for i in motif_seq if i < 9]\n",
    "    \n",
    "    starting_seq_len = int(math.ceil(spacer_seq.count(starting_cycle) / 2))\n",
    "    ending_seq_len = int(math.ceil(spacer_seq.count(ending_cycle) / 2))\n",
    "\n",
    "    motif_seq_ = []\n",
    "    cycle_number = starting_cycle\n",
    "    ptr = 0\n",
    "    while True:\n",
    "        \n",
    "        motif_seq_.append(cycle_number)\n",
    "        if cycle_number == starting_cycle:\n",
    "            motif_seq_.extend(payload_seq[: starting_seq_len])\n",
    "            ptr += starting_seq_len\n",
    "        elif cycle_number == ending_cycle:\n",
    "            motif_seq_.extend(payload_seq[-ending_seq_len:])\n",
    "        else:\n",
    "            motif_seq_.extend(payload_seq[ptr: ptr + 4])\n",
    "            ptr += 4\n",
    "            \n",
    "        motif_seq_.append(cycle_number)\n",
    "        cycle_number += 1\n",
    "\n",
    "        if cycle_number > ending_cycle:\n",
    "            break\n",
    "\n",
    "\n",
    "    return motif_seq_\n"
   ]
  },
  {
   "cell_type": "code",
   "execution_count": 25,
   "metadata": {},
   "outputs": [],
   "source": [
    "\n",
    "def create_synthetic_dataset(\n",
    "        fast5_read_ids: List[str], fasta_read_ids: List[str], fast5_raw_data: List[Any],\n",
    "        reads_base_level: List[List[str]], motif_labels: List[List[int]], motif_picks: List[str]) -> pd.DataFrame:\n",
    "\n",
    "    base_sequences_dataset = []\n",
    "    motif_sequences_dataset = []\n",
    "    raw_data_arrs = []\n",
    "    strand_orientations = []\n",
    "    fasta_read_ids_df = []\n",
    "\n",
    "    for ind, read_id in tqdm(enumerate(fast5_read_ids), total=len(fast5_read_ids)):\n",
    "        split_id = read_id.split('!') # To get the starting and ending character positions for the specific read id\n",
    "        uid = split_id[1][1:]\n",
    "\n",
    "        reverse_complemented = split_id[4]\n",
    "        strand_orientations.append(reverse_complemented)\n",
    "        \n",
    "        starting_pos, ending_pos = int(split_id[2]), int(split_id[3])\n",
    "        index = fasta_read_ids.index(uid)\n",
    "        base_sequence_dataset = reads_base_level[index][starting_pos: ending_pos]\n",
    "        motif_sequence_dataset = get_motif_sequence(\n",
    "            starting_pos, ending_pos, motif_labels[index])\n",
    "        #motif_label = create_motif_label(motif_seq=motif_sequence_dataset)\n",
    "        motif_label = motif_sequence_dataset\n",
    "\n",
    "        #motif_search_prediction = motif_search(base_sequence_dataset, motif_picks)\n",
    "        \n",
    "        fasta_read_ids_df.append(fasta_read_ids[index])\n",
    "        base_sequences_dataset.append(base_sequence_dataset)\n",
    "        motif_sequences_dataset.append(motif_label)\n",
    "        raw_data_arrs.append(fast5_raw_data[ind])\n",
    "\n",
    "    df = pd.DataFrame()\n",
    "\n",
    "    df['motif_seq'] = motif_sequences_dataset\n",
    "    df['base_seq'] = base_sequences_dataset\n",
    "    df['squiggle'] = raw_data_arrs\n",
    "    df['fasta_read_id'] = fasta_read_ids_df\n",
    "    df['fast5_read_id'] = fast5_read_ids\n",
    "    df['orientation'] = strand_orientations\n",
    "\n",
    "    return df\n"
   ]
  },
  {
   "cell_type": "code",
   "execution_count": 26,
   "metadata": {},
   "outputs": [
    {
     "data": {
      "application/vnd.jupyter.widget-view+json": {
       "model_id": "c52a046462634bddb5c1620503aa162b",
       "version_major": 2,
       "version_minor": 0
      },
      "text/plain": [
       "  0%|          | 0/20000 [00:00<?, ?it/s]"
      ]
     },
     "metadata": {},
     "output_type": "display_data"
    }
   ],
   "source": [
    "df = create_synthetic_dataset(\n",
    "    fast5_read_ids=fast5_read_ids, fasta_read_ids=ids, fast5_raw_data=fast5_raw_data,\n",
    "    reads_base_level=reads_base_level, motif_labels=motif_labels, motif_picks=motif_choices\n",
    ")"
   ]
  },
  {
   "cell_type": "code",
   "execution_count": 27,
   "metadata": {},
   "outputs": [
    {
     "data": {
      "text/plain": [
       "0        [2, 3, 4, 6, 2, 4, 6, 8, 1, 2, 5, 8, 2, 4, 6, 8]\n",
       "1                                         [6, 1, 2, 4, 5]\n",
       "2        [2, 3, 7, 8, 5, 6, 7, 8, 2, 5, 7, 8, 3, 5, 7, 8]\n",
       "3        [1, 3, 5, 8, 1, 2, 7, 8, 1, 2, 3, 8, 1, 2, 6, 8]\n",
       "4                                                     [7]\n",
       "                               ...                       \n",
       "19995                         [5, 4, 5, 6, 7, 3, 4, 6, 7]\n",
       "19996                                                 [5]\n",
       "19997                                           [5, 6, 7]\n",
       "19998                                  [6, 8, 2, 5, 7, 8]\n",
       "19999                                           [5, 6, 7]\n",
       "Name: motif_seq, Length: 20000, dtype: object"
      ]
     },
     "execution_count": 27,
     "metadata": {},
     "output_type": "execute_result"
    }
   ],
   "source": [
    "df['motif_seq']"
   ]
  },
  {
   "cell_type": "code",
   "execution_count": 28,
   "metadata": {},
   "outputs": [],
   "source": [
    "df = df[df['motif_seq'].str.len() < 10]"
   ]
  },
  {
   "cell_type": "code",
   "execution_count": 30,
   "metadata": {},
   "outputs": [],
   "source": [
    "df = df[df['orientation'].str.startswith('+')]"
   ]
  },
  {
   "cell_type": "code",
   "execution_count": 31,
   "metadata": {},
   "outputs": [],
   "source": [
    "df.to_pickle(r\"C:\\Users\\Parv\\Doc\\HelixWorks\\Basecalling\\code\\motifcaller\\data\\synthetic\\pickled_datasets\\short_no_spacers.pkl\")"
   ]
  },
  {
   "cell_type": "code",
   "execution_count": 2,
   "metadata": {},
   "outputs": [],
   "source": [
    "basecalled_df = pd.read_csv(r\"C:\\Users\\Parv\\Doc\\HelixWorks\\Basecalling\\code\\motifcaller\\basecalled.csv\")"
   ]
  },
  {
   "cell_type": "code",
   "execution_count": 3,
   "metadata": {},
   "outputs": [
    {
     "data": {
      "text/html": [
       "<div>\n",
       "<style scoped>\n",
       "    .dataframe tbody tr th:only-of-type {\n",
       "        vertical-align: middle;\n",
       "    }\n",
       "\n",
       "    .dataframe tbody tr th {\n",
       "        vertical-align: top;\n",
       "    }\n",
       "\n",
       "    .dataframe thead th {\n",
       "        text-align: right;\n",
       "    }\n",
       "</style>\n",
       "<table border=\"1\" class=\"dataframe\">\n",
       "  <thead>\n",
       "    <tr style=\"text-align: right;\">\n",
       "      <th></th>\n",
       "      <th>Unnamed: 0</th>\n",
       "      <th>read_ids_fasta</th>\n",
       "      <th>read_ids_fast5</th>\n",
       "      <th>base_predictions</th>\n",
       "    </tr>\n",
       "  </thead>\n",
       "  <tbody>\n",
       "    <tr>\n",
       "      <th>0</th>\n",
       "      <td>0</td>\n",
       "      <td>a990ccf4-a3a7-4758-a85b-620a4a4d952</td>\n",
       "      <td>S1_10007!&gt;a990ccf4-a3a7-4758-a85b-620a4a4d952b...</td>\n",
       "      <td>TCCGGGTTCCGTACGCTATTCCGTGCTATTCCGTCCGTATAAGTCA...</td>\n",
       "    </tr>\n",
       "    <tr>\n",
       "      <th>1</th>\n",
       "      <td>1</td>\n",
       "      <td>487a304e-7eae-46d7-b3d5-a8e56044e24e</td>\n",
       "      <td>S1_10012!&gt;487a304e-7eae-46d7-b3d5-a8e56044e24e...</td>\n",
       "      <td>TTGCATTGAACGTGAGGTCATTCGCGTTAATTGCCGTTAATTGCGC...</td>\n",
       "    </tr>\n",
       "    <tr>\n",
       "      <th>2</th>\n",
       "      <td>2</td>\n",
       "      <td>911ca32d-2c05-4bf9-8878-6e0d8149c6f7</td>\n",
       "      <td>S1_10011!&gt;911ca32d-2c05-4bf9-8878-6e0d8149c6f7...</td>\n",
       "      <td>CTACGCTGAGACAGACAATCGGGTTCCGTACACGCTGAGACACGCT...</td>\n",
       "    </tr>\n",
       "    <tr>\n",
       "      <th>3</th>\n",
       "      <td>3</td>\n",
       "      <td>59bc0cd0-f0f9-47ee-9804-2a86031d74bf</td>\n",
       "      <td>S1_1!&gt;59bc0cd0-f0f9-47ee-9804-2a86031d74bf!371...</td>\n",
       "      <td>ATCCGGGTTCCGTACGTCTTTGACTGTCTTTGACTCCGTAAGTCAA...</td>\n",
       "    </tr>\n",
       "    <tr>\n",
       "      <th>4</th>\n",
       "      <td>4</td>\n",
       "      <td>3520c848-75d8-4ace-95c3-c9a76a406225</td>\n",
       "      <td>S1_10015!&gt;3520c848-75d8-4ace-95c3-c9a76a406225...</td>\n",
       "      <td>ATTGCTATGATGAACTTTTCTGAAGCGTTAATTGCCGTTAATTGCT...</td>\n",
       "    </tr>\n",
       "    <tr>\n",
       "      <th>...</th>\n",
       "      <td>...</td>\n",
       "      <td>...</td>\n",
       "      <td>...</td>\n",
       "      <td>...</td>\n",
       "    </tr>\n",
       "    <tr>\n",
       "      <th>19995</th>\n",
       "      <td>19995</td>\n",
       "      <td>9b20d3e5-e129-4c8b-ab29-f7b1af3eb22</td>\n",
       "      <td>S1_9995!&gt;9b20d3e5-e129-4c8b-ab29-f7b1af3eb227!...</td>\n",
       "      <td>ATTCGTAATCTAACGCGTTCGTTCCGGCTATTCCGTCTTTATTCCG...</td>\n",
       "    </tr>\n",
       "    <tr>\n",
       "      <th>19996</th>\n",
       "      <td>19996</td>\n",
       "      <td>8dc9a386-ffdc-4329-9337-7dea8fcc9465</td>\n",
       "      <td>S1_999!&gt;8dc9a386-ffdc-4329-9337-7dea8fcc9465!3...</td>\n",
       "      <td>ATTGCTGATTCTCGCTTCCTATCAACGTTAATTGCCGTTAATTGCG...</td>\n",
       "    </tr>\n",
       "    <tr>\n",
       "      <th>19997</th>\n",
       "      <td>19997</td>\n",
       "      <td>40c3f16a-3531-4956-b2e0-43896acceca4</td>\n",
       "      <td>S1_9997!&gt;40c3f16a-3531-4956-b2e0-43896acceca4!...</td>\n",
       "      <td>ATTGCATTGAACGTGAGTCATTCGCGTTAATTGCCGTTAGTGCACG...</td>\n",
       "    </tr>\n",
       "    <tr>\n",
       "      <th>19998</th>\n",
       "      <td>19998</td>\n",
       "      <td>edd826ec-3d7d-4661-9757-aabbbcefeb2c</td>\n",
       "      <td>S1_9998!&gt;edd826ec-3d7d-4661-9757-aabbbcefeb2c!...</td>\n",
       "      <td>CATGAGACGATATTGACTCTTTGACTTACGCTGAGACACGCTGAGA...</td>\n",
       "    </tr>\n",
       "    <tr>\n",
       "      <th>19999</th>\n",
       "      <td>19999</td>\n",
       "      <td>b5258b7b-0d81-4d5c-a2b3-8ea592711aa</td>\n",
       "      <td>S1_9999!&gt;b5258b7b-0d81-4d5c-a2b3-8ea592711aae!...</td>\n",
       "      <td>CGTATAAGTCAATGCGCGTGCTATTCCGTGCTATTCCGTCGAATGA...</td>\n",
       "    </tr>\n",
       "  </tbody>\n",
       "</table>\n",
       "<p>20000 rows × 4 columns</p>\n",
       "</div>"
      ],
      "text/plain": [
       "       Unnamed: 0                        read_ids_fasta  \\\n",
       "0               0   a990ccf4-a3a7-4758-a85b-620a4a4d952   \n",
       "1               1  487a304e-7eae-46d7-b3d5-a8e56044e24e   \n",
       "2               2  911ca32d-2c05-4bf9-8878-6e0d8149c6f7   \n",
       "3               3  59bc0cd0-f0f9-47ee-9804-2a86031d74bf   \n",
       "4               4  3520c848-75d8-4ace-95c3-c9a76a406225   \n",
       "...           ...                                   ...   \n",
       "19995       19995   9b20d3e5-e129-4c8b-ab29-f7b1af3eb22   \n",
       "19996       19996  8dc9a386-ffdc-4329-9337-7dea8fcc9465   \n",
       "19997       19997  40c3f16a-3531-4956-b2e0-43896acceca4   \n",
       "19998       19998  edd826ec-3d7d-4661-9757-aabbbcefeb2c   \n",
       "19999       19999   b5258b7b-0d81-4d5c-a2b3-8ea592711aa   \n",
       "\n",
       "                                          read_ids_fast5  \\\n",
       "0      S1_10007!>a990ccf4-a3a7-4758-a85b-620a4a4d952b...   \n",
       "1      S1_10012!>487a304e-7eae-46d7-b3d5-a8e56044e24e...   \n",
       "2      S1_10011!>911ca32d-2c05-4bf9-8878-6e0d8149c6f7...   \n",
       "3      S1_1!>59bc0cd0-f0f9-47ee-9804-2a86031d74bf!371...   \n",
       "4      S1_10015!>3520c848-75d8-4ace-95c3-c9a76a406225...   \n",
       "...                                                  ...   \n",
       "19995  S1_9995!>9b20d3e5-e129-4c8b-ab29-f7b1af3eb227!...   \n",
       "19996  S1_999!>8dc9a386-ffdc-4329-9337-7dea8fcc9465!3...   \n",
       "19997  S1_9997!>40c3f16a-3531-4956-b2e0-43896acceca4!...   \n",
       "19998  S1_9998!>edd826ec-3d7d-4661-9757-aabbbcefeb2c!...   \n",
       "19999  S1_9999!>b5258b7b-0d81-4d5c-a2b3-8ea592711aae!...   \n",
       "\n",
       "                                        base_predictions  \n",
       "0      TCCGGGTTCCGTACGCTATTCCGTGCTATTCCGTCCGTATAAGTCA...  \n",
       "1      TTGCATTGAACGTGAGGTCATTCGCGTTAATTGCCGTTAATTGCGC...  \n",
       "2      CTACGCTGAGACAGACAATCGGGTTCCGTACACGCTGAGACACGCT...  \n",
       "3      ATCCGGGTTCCGTACGTCTTTGACTGTCTTTGACTCCGTAAGTCAA...  \n",
       "4      ATTGCTATGATGAACTTTTCTGAAGCGTTAATTGCCGTTAATTGCT...  \n",
       "...                                                  ...  \n",
       "19995  ATTCGTAATCTAACGCGTTCGTTCCGGCTATTCCGTCTTTATTCCG...  \n",
       "19996  ATTGCTGATTCTCGCTTCCTATCAACGTTAATTGCCGTTAATTGCG...  \n",
       "19997  ATTGCATTGAACGTGAGTCATTCGCGTTAATTGCCGTTAGTGCACG...  \n",
       "19998  CATGAGACGATATTGACTCTTTGACTTACGCTGAGACACGCTGAGA...  \n",
       "19999  CGTATAAGTCAATGCGCGTGCTATTCCGTGCTATTCCGTCGAATGA...  \n",
       "\n",
       "[20000 rows x 4 columns]"
      ]
     },
     "execution_count": 3,
     "metadata": {},
     "output_type": "execute_result"
    }
   ],
   "source": [
    "basecalled_df"
   ]
  },
  {
   "cell_type": "code",
   "execution_count": 93,
   "metadata": {},
   "outputs": [],
   "source": [
    "basecalled_df = basecalled_df.rename(columns={\"read_ids_fast5\": \"fast5_read_id\"})"
   ]
  },
  {
   "cell_type": "code",
   "execution_count": 94,
   "metadata": {},
   "outputs": [],
   "source": [
    "\n",
    "merged_df = pd.merge(basecalled_df, df, on='fast5_read_id')"
   ]
  },
  {
   "cell_type": "code",
   "execution_count": 95,
   "metadata": {},
   "outputs": [],
   "source": [
    "merged_df = merged_df.drop(columns=['fasta_read_id'])"
   ]
  },
  {
   "cell_type": "code",
   "execution_count": 100,
   "metadata": {},
   "outputs": [],
   "source": [
    "\n",
    "def check_base_predictions():\n",
    "    \"\"\" Procedure to check how accurate the base predictions are\"\"\"\n",
    "    for row in merged_df.iterrows():\n",
    "        row = row[1]\n",
    "        base_prediction = row['base_predictions']\n",
    "        base_seq = row['base_seq']\n",
    "        orientation = row['orientation']\n",
    "\n",
    "        if orientation == '-':\n",
    "            base_prediction = reverse_complement(base_prediction)\n",
    "\n",
    "        aligner = Align.PairwiseAligner()\n",
    "        aligner.mode = \"local\"\n",
    "        alignments = aligner.align(base_prediction, base_seq)\n",
    "        print(alignments[0].counts())\n",
    "        print(distance(base_prediction, base_seq))\n",
    "        print(orientation)\n",
    "        print()\n"
   ]
  },
  {
   "cell_type": "code",
   "execution_count": null,
   "metadata": {},
   "outputs": [],
   "source": [
    "merged_df.to_pickle(r\"C:\\Users\\Parv\\Doc\\HelixWorks\\Basecalling\\code\\motifcaller\\data\\synthetic\\pickled_datasets\\reduced_spacers_basecalled.pkl\")"
   ]
  },
  {
   "cell_type": "code",
   "execution_count": 4,
   "metadata": {},
   "outputs": [],
   "source": [
    "df = pd.read_pickle(r\"C:\\Users\\Parv\\Doc\\HelixWorks\\Basecalling\\code\\motifcaller\\data\\synthetic\\pickled_datasets\\reduced_spacers_basecalled.pkl\")"
   ]
  },
  {
   "cell_type": "code",
   "execution_count": 7,
   "metadata": {},
   "outputs": [],
   "source": [
    "df_ = df[df['motif_seq'].str.len() > 40]"
   ]
  },
  {
   "cell_type": "code",
   "execution_count": 9,
   "metadata": {},
   "outputs": [
    {
     "data": {
      "text/plain": [
       "(array([719., 721.,   4.,   0.,   4., 699.,   0., 736., 719., 623.]),\n",
       " array([41. , 41.7, 42.4, 43.1, 43.8, 44.5, 45.2, 45.9, 46.6, 47.3, 48. ]),\n",
       " <BarContainer object of 10 artists>)"
      ]
     },
     "execution_count": 9,
     "metadata": {},
     "output_type": "execute_result"
    },
    {
     "data": {
      "image/png": "[encoded data removed]",
      "text/plain": [
       "<Figure size 640x480 with 1 Axes>"
      ]
     },
     "metadata": {},
     "output_type": "display_data"
    }
   ],
   "source": [
    "plt.hist([len(i) for i in df_['motif_seq']])"
   ]
  },
  {
   "cell_type": "code",
   "execution_count": 12,
   "metadata": {},
   "outputs": [],
   "source": [
    "df_.to_pickle(r\"C:\\Users\\Parv\\Doc\\HelixWorks\\Basecalling\\code\\motifcaller\\data\\synthetic\\pickled_datasets\\filtered_length.pkl\")"
   ]
  },
  {
   "cell_type": "code",
   "execution_count": null,
   "metadata": {},
   "outputs": [],
   "source": []
  }
 ],
 "metadata": {
  "kernelspec": {
   "display_name": "pytorch_gpu",
   "language": "python",
   "name": "python3"
  },
  "language_info": {
   "codemirror_mode": {
    "name": "ipython",
    "version": 3
   },
   "file_extension": ".py",
   "mimetype": "text/x-python",
   "name": "python",
   "nbconvert_exporter": "python",
   "pygments_lexer": "ipython3",
   "version": "3.12.3"
  }
 },
 "nbformat": 4,
 "nbformat_minor": 2
}
